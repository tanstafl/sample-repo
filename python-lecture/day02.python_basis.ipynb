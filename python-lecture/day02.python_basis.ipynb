{
 "cells": [
  {
   "cell_type": "markdown",
   "metadata": {},
   "source": [
    "## String 문자열"
   ]
  },
  {
   "cell_type": "code",
   "execution_count": 1,
   "metadata": {},
   "outputs": [
    {
     "name": "stdout",
     "output_type": "stream",
     "text": [
      "Hello World!\n"
     ]
    }
   ],
   "source": [
    "print(\"Hello World!\")"
   ]
  },
  {
   "cell_type": "code",
   "execution_count": 2,
   "metadata": {},
   "outputs": [
    {
     "name": "stdout",
     "output_type": "stream",
     "text": [
      "Hello World!\n"
     ]
    }
   ],
   "source": [
    "print('Hello World!')"
   ]
  },
  {
   "cell_type": "code",
   "execution_count": 3,
   "metadata": {},
   "outputs": [
    {
     "name": "stdout",
     "output_type": "stream",
     "text": [
      "python\n"
     ]
    }
   ],
   "source": [
    "some_string = \"python\"\n",
    "print(some_string)"
   ]
  },
  {
   "cell_type": "code",
   "execution_count": 4,
   "metadata": {},
   "outputs": [
    {
     "data": {
      "text/plain": [
       "6"
      ]
     },
     "execution_count": 4,
     "metadata": {},
     "output_type": "execute_result"
    }
   ],
   "source": [
    "len(some_string) ## string 문자열의 길이를 알려줌"
   ]
  },
  {
   "cell_type": "code",
   "execution_count": 5,
   "metadata": {},
   "outputs": [
    {
     "data": {
      "text/plain": [
       "'n'"
      ]
     },
     "execution_count": 5,
     "metadata": {},
     "output_type": "execute_result"
    }
   ],
   "source": [
    "some_string[5] ## 순번은 0부터 시작! 1~6번째가 아니라 0~5번째로 호출한다"
   ]
  },
  {
   "cell_type": "code",
   "execution_count": 6,
   "metadata": {},
   "outputs": [
    {
     "data": {
      "text/plain": [
       "'tho'"
      ]
     },
     "execution_count": 6,
     "metadata": {},
     "output_type": "execute_result"
    }
   ],
   "source": [
    "some_string[2:5] ## (0, 1,) 2번째부터 5-1번째까지 보여줌"
   ]
  },
  {
   "cell_type": "code",
   "execution_count": 7,
   "metadata": {},
   "outputs": [
    {
     "data": {
      "text/plain": [
       "'tho'"
      ]
     },
     "execution_count": 7,
     "metadata": {},
     "output_type": "execute_result"
    }
   ],
   "source": [
    "some_string[2:4+1] ## 파이썬은 실제로는 위와같이 인식하는 것이다. 이렇게 쓰면 가독성이 좋음"
   ]
  },
  {
   "cell_type": "code",
   "execution_count": 8,
   "metadata": {},
   "outputs": [
    {
     "data": {
      "text/plain": [
       "'pt'"
      ]
     },
     "execution_count": 8,
     "metadata": {},
     "output_type": "execute_result"
    }
   ],
   "source": [
    "some_string[0:3+1:2] ## step을 정의, 2칸씩 띄어서"
   ]
  },
  {
   "cell_type": "code",
   "execution_count": 11,
   "metadata": {},
   "outputs": [
    {
     "data": {
      "text/plain": [
       "'pto'"
      ]
     },
     "execution_count": 11,
     "metadata": {},
     "output_type": "execute_result"
    }
   ],
   "source": [
    "some_string[::2] ## 전체 string에서 2칸씩 띄어서"
   ]
  },
  {
   "cell_type": "code",
   "execution_count": 12,
   "metadata": {},
   "outputs": [
    {
     "data": {
      "text/plain": [
       "'nohtyp'"
      ]
     },
     "execution_count": 12,
     "metadata": {},
     "output_type": "execute_result"
    }
   ],
   "source": [
    "some_string[::-1] ##역으로 건너뛴다"
   ]
  },
  {
   "cell_type": "code",
   "execution_count": 13,
   "metadata": {},
   "outputs": [
    {
     "data": {
      "text/plain": [
       "''"
      ]
     },
     "execution_count": 13,
     "metadata": {},
     "output_type": "execute_result"
    }
   ],
   "source": [
    "some_string[0:5+1:-1] ## minus index는 순서체계가 다름. -6~-1까지임"
   ]
  },
  {
   "cell_type": "code",
   "execution_count": 14,
   "metadata": {},
   "outputs": [
    {
     "data": {
      "text/plain": [
       "'nohtyp'"
      ]
     },
     "execution_count": 14,
     "metadata": {},
     "output_type": "execute_result"
    }
   ],
   "source": [
    "some_string[-1:-6-1:-1] ## minus index는 순서체계가 다름. -6~-1까지임"
   ]
  },
  {
   "cell_type": "code",
   "execution_count": 15,
   "metadata": {},
   "outputs": [],
   "source": [
    "fastcampus = \"Python is very EASY and FAST language.\""
   ]
  },
  {
   "cell_type": "code",
   "execution_count": 16,
   "metadata": {},
   "outputs": [
    {
     "data": {
      "text/plain": [
       "2"
      ]
     },
     "execution_count": 16,
     "metadata": {},
     "output_type": "execute_result"
    }
   ],
   "source": [
    "fastcampus.count(\"y\") ## count 함수는 앞의 string에서 개수를 세어줌. 대소문자 구분됨"
   ]
  },
  {
   "cell_type": "code",
   "execution_count": 17,
   "metadata": {},
   "outputs": [
    {
     "data": {
      "text/plain": [
       "1"
      ]
     },
     "execution_count": 17,
     "metadata": {},
     "output_type": "execute_result"
    }
   ],
   "source": [
    "fastcampus.count(\"Python\")"
   ]
  },
  {
   "cell_type": "code",
   "execution_count": 18,
   "metadata": {},
   "outputs": [
    {
     "data": {
      "text/plain": [
       "1"
      ]
     },
     "execution_count": 18,
     "metadata": {},
     "output_type": "execute_result"
    }
   ],
   "source": [
    "fastcampus.find(\"y\") ## 1번째 처음 y가 나옴 (0, 1번째) > 첫번째만 알려줌"
   ]
  },
  {
   "cell_type": "code",
   "execution_count": 19,
   "metadata": {},
   "outputs": [
    {
     "data": {
      "text/plain": [
       "'p,y,t,h,o,n'"
      ]
     },
     "execution_count": 19,
     "metadata": {},
     "output_type": "execute_result"
    }
   ],
   "source": [
    "\",\".join(\"python\") ## 콤마를 python 사이사이에 넣어라"
   ]
  },
  {
   "cell_type": "code",
   "execution_count": 20,
   "metadata": {},
   "outputs": [
    {
     "data": {
      "text/plain": [
       "'P,y,t,h,o,n, ,i,s, ,v,e,r,y, ,E,A,S,Y, ,a,n,d, ,F,A,S,T, ,l,a,n,g,u,a,g,e,.'"
      ]
     },
     "execution_count": 20,
     "metadata": {},
     "output_type": "execute_result"
    }
   ],
   "source": [
    "coma = \",\"\n",
    "facamp = coma.join(fastcampus) ## 이렇게 쓸 수도 있다 \n",
    "facamp"
   ]
  },
  {
   "cell_type": "code",
   "execution_count": 21,
   "metadata": {},
   "outputs": [
    {
     "data": {
      "text/plain": [
       "['P', 'thon is ver', ' EASY and FAST language.']"
      ]
     },
     "execution_count": 21,
     "metadata": {},
     "output_type": "execute_result"
    }
   ],
   "source": [
    "fastcampus.split('y') ## y를 기준으로 잘라내라. 그리고 기준문자는 뺀다. "
   ]
  },
  {
   "cell_type": "code",
   "execution_count": 22,
   "metadata": {},
   "outputs": [
    {
     "data": {
      "text/plain": [
       "'Python is very EASY and SLOW language.'"
      ]
     },
     "execution_count": 22,
     "metadata": {},
     "output_type": "execute_result"
    }
   ],
   "source": [
    "fastcampus.replace(\"FAST\",\"SLOW\") ## 앞에는 바꿀 것, 뒤에는 바뀔 것"
   ]
  },
  {
   "cell_type": "code",
   "execution_count": 23,
   "metadata": {},
   "outputs": [
    {
     "data": {
      "text/plain": [
       "'Julia is very EASY and FAST language.'"
      ]
     },
     "execution_count": 23,
     "metadata": {},
     "output_type": "execute_result"
    }
   ],
   "source": [
    "fastcampus.replace(\"Python\", \"Julia\")"
   ]
  },
  {
   "cell_type": "code",
   "execution_count": 24,
   "metadata": {},
   "outputs": [
    {
     "data": {
      "text/plain": [
       "'computer'"
      ]
     },
     "execution_count": 24,
     "metadata": {},
     "output_type": "execute_result"
    }
   ],
   "source": [
    "clutter = \"      computer         \"\n",
    "clutter.strip(\" \") ## 공백을 strip하라고 명령하면 반복되는 문자를 지워준다"
   ]
  },
  {
   "cell_type": "code",
   "execution_count": 25,
   "metadata": {},
   "outputs": [],
   "source": [
    "## 공백을 기준으로 지울때는 strip(), 공백을 기준으로 나눌때는 split()"
   ]
  },
  {
   "cell_type": "code",
   "execution_count": 26,
   "metadata": {},
   "outputs": [
    {
     "data": {
      "text/plain": [
       "'computer'"
      ]
     },
     "execution_count": 26,
     "metadata": {},
     "output_type": "execute_result"
    }
   ],
   "source": [
    "clutter = \"........computer]]]]]]]]]\"\n",
    "clutter.strip(\".\"\"]\")"
   ]
  },
  {
   "cell_type": "code",
   "execution_count": 27,
   "metadata": {},
   "outputs": [
    {
     "data": {
      "text/plain": [
       "'computer'"
      ]
     },
     "execution_count": 27,
     "metadata": {},
     "output_type": "execute_result"
    }
   ],
   "source": [
    "clutter = \"........computer]]]]]]]]]\"\n",
    "clutter.strip(\".\").strip(\"]\") ## 이렇게 해도 된다. strip함수를 두번 시행한 것"
   ]
  },
  {
   "cell_type": "code",
   "execution_count": 28,
   "metadata": {},
   "outputs": [
    {
     "name": "stdout",
     "output_type": "stream",
     "text": [
      "I have a pen, I have an apple.\n"
     ]
    }
   ],
   "source": [
    "## string formatting 빈칸을 놔두고 나중에 채우는 방법 > 끼워넣기\n",
    "\n",
    "print(\"I have a %s, I have an %s.\" % (\"pen\",\"apple\")) \n",
    "\n",
    "## %s로 들어올 자료형을 미리 알려줘야 함\n",
    "## %s = string, %c = char, %d = integer(decimal), %f  = floating-point..."
   ]
  },
  {
   "cell_type": "code",
   "execution_count": 29,
   "metadata": {},
   "outputs": [
    {
     "name": "stdout",
     "output_type": "stream",
     "text": [
      "I have a pen, I have an apple.\n"
     ]
    }
   ],
   "source": [
    "## string formatting 빈칸을 놔두고 나중에 채우는 방법 > 끼워넣기, 요즘쓰는 방식\n",
    "print(\"I have a {}, I have an {}.\" .format(\"pen\",\"apple\"))"
   ]
  },
  {
   "cell_type": "code",
   "execution_count": 30,
   "metadata": {},
   "outputs": [
    {
     "name": "stdout",
     "output_type": "stream",
     "text": [
      "I have a apple, I have an pen.\n"
     ]
    }
   ],
   "source": [
    "print(\"I have a {1}, I have an {0}.\".format(\"pen\",\"apple\",\"pineapple\")) ## 순서를 지정해줄 수 있음 0번부터"
   ]
  },
  {
   "cell_type": "code",
   "execution_count": 31,
   "metadata": {},
   "outputs": [
    {
     "name": "stdout",
     "output_type": "stream",
     "text": [
      "I have a pen, I have an pineapple.\n"
     ]
    }
   ],
   "source": [
    "print(\"I have a {0}, I have an {2}.\".format(\"pen\",\"apple\",\"pineapple\")) "
   ]
  },
  {
   "cell_type": "code",
   "execution_count": 32,
   "metadata": {},
   "outputs": [
    {
     "name": "stdout",
     "output_type": "stream",
     "text": [
      "I have a pen, I have an 10,000,000,000.\n"
     ]
    }
   ],
   "source": [
    "print(\"I have a {0}, I have an {2:,}.\".format(\"pen\",\"apple\",10000000000)) ## formatting은 굉장히 다양하게 사용가능"
   ]
  },
  {
   "cell_type": "markdown",
   "metadata": {},
   "source": [
    "## 묶음 자료형!!!! > list, tuple // dictionary, set "
   ]
  },
  {
   "cell_type": "code",
   "execution_count": 33,
   "metadata": {},
   "outputs": [],
   "source": [
    "## List 수정가능\n",
    "animals = ['cat', 'dog', 'hippo', 'bird', 'kiwi']\n",
    "\n",
    "\n",
    "## Tuple 수정불가\n",
    "animals1 = ('cat', 'dog', 'hippo', 'bird', 'kiwi')"
   ]
  },
  {
   "cell_type": "code",
   "execution_count": 34,
   "metadata": {},
   "outputs": [
    {
     "data": {
      "text/plain": [
       "[]"
      ]
     },
     "execution_count": 34,
     "metadata": {},
     "output_type": "execute_result"
    }
   ],
   "source": [
    "lang = []\n",
    "lang"
   ]
  },
  {
   "cell_type": "code",
   "execution_count": 35,
   "metadata": {},
   "outputs": [],
   "source": [
    "## 리스트에 값 추가, append는 무조건 맨 뒤에 추가 \n",
    "lang.append(\"c\")"
   ]
  },
  {
   "cell_type": "code",
   "execution_count": 36,
   "metadata": {},
   "outputs": [],
   "source": [
    "lang.append(\"Java\")"
   ]
  },
  {
   "cell_type": "code",
   "execution_count": 37,
   "metadata": {},
   "outputs": [],
   "source": [
    "lang.append(\"python\")"
   ]
  },
  {
   "cell_type": "code",
   "execution_count": 38,
   "metadata": {},
   "outputs": [],
   "source": [
    "lang.append(\"Ruby\")"
   ]
  },
  {
   "cell_type": "code",
   "execution_count": 39,
   "metadata": {},
   "outputs": [
    {
     "data": {
      "text/plain": [
       "['c', 'Java', 'python', 'Ruby']"
      ]
     },
     "execution_count": 39,
     "metadata": {},
     "output_type": "execute_result"
    }
   ],
   "source": [
    "lang"
   ]
  },
  {
   "cell_type": "code",
   "execution_count": 40,
   "metadata": {},
   "outputs": [
    {
     "data": {
      "text/plain": [
       "'c'"
      ]
     },
     "execution_count": 40,
     "metadata": {},
     "output_type": "execute_result"
    }
   ],
   "source": [
    "lang[0]"
   ]
  },
  {
   "cell_type": "code",
   "execution_count": 41,
   "metadata": {},
   "outputs": [],
   "source": [
    "## list, tuple 자기 자리 번호index가 있다 // dictionary, set 자기 자리번호 index가 없다"
   ]
  },
  {
   "cell_type": "code",
   "execution_count": 42,
   "metadata": {},
   "outputs": [],
   "source": [
    "## list 원하는 자리에 새 데이터를 넣고 싶다 insert함수\n",
    "lang.insert(2, 'cpp')"
   ]
  },
  {
   "cell_type": "code",
   "execution_count": 43,
   "metadata": {},
   "outputs": [
    {
     "data": {
      "text/plain": [
       "['c', 'Java', 'cpp', 'python', 'Ruby']"
      ]
     },
     "execution_count": 43,
     "metadata": {},
     "output_type": "execute_result"
    }
   ],
   "source": [
    "lang"
   ]
  },
  {
   "cell_type": "code",
   "execution_count": 44,
   "metadata": {},
   "outputs": [
    {
     "data": {
      "text/plain": [
       "['fastcampus', 'c', 'Java', 'cpp', 'python', 'Ruby']"
      ]
     },
     "execution_count": 44,
     "metadata": {},
     "output_type": "execute_result"
    }
   ],
   "source": [
    "lang.insert(0, 'fastcampus')\n",
    "lang"
   ]
  },
  {
   "cell_type": "code",
   "execution_count": 45,
   "metadata": {},
   "outputs": [
    {
     "data": {
      "text/plain": [
       "['c', 'Java', 'cpp', 'python', 'Ruby']"
      ]
     },
     "execution_count": 45,
     "metadata": {},
     "output_type": "execute_result"
    }
   ],
   "source": [
    "lang.remove('fastcampus') ## 같은 값이 2개 이상 있어도 한번만 지워짐\n",
    "lang"
   ]
  },
  {
   "cell_type": "code",
   "execution_count": 46,
   "metadata": {},
   "outputs": [
    {
     "ename": "ValueError",
     "evalue": "list.remove(x): x not in list",
     "output_type": "error",
     "traceback": [
      "\u001b[1;31m---------------------------------------------------------------------------\u001b[0m",
      "\u001b[1;31mValueError\u001b[0m                                Traceback (most recent call last)",
      "\u001b[1;32m<ipython-input-46-72332ea107de>\u001b[0m in \u001b[0;36m<module>\u001b[1;34m()\u001b[0m\n\u001b[1;32m----> 1\u001b[1;33m \u001b[0mlang\u001b[0m\u001b[1;33m.\u001b[0m\u001b[0mremove\u001b[0m\u001b[1;33m(\u001b[0m\u001b[1;34m'fastcampus'\u001b[0m\u001b[1;33m)\u001b[0m \u001b[1;31m## 2번 이상 시행해야 다 지워짐\u001b[0m\u001b[1;33m\u001b[0m\u001b[0m\n\u001b[0m\u001b[0;32m      2\u001b[0m \u001b[0mlang\u001b[0m\u001b[1;33m\u001b[0m\u001b[0m\n",
      "\u001b[1;31mValueError\u001b[0m: list.remove(x): x not in list"
     ]
    }
   ],
   "source": [
    "lang.remove('fastcampus') ## 2번 이상 시행해야 다 지워짐\n",
    "lang"
   ]
  },
  {
   "cell_type": "code",
   "execution_count": 47,
   "metadata": {},
   "outputs": [
    {
     "data": {
      "text/plain": [
       "'cpp'"
      ]
     },
     "execution_count": 47,
     "metadata": {},
     "output_type": "execute_result"
    }
   ],
   "source": [
    "some_lang = lang.pop(2) ## 리스트 lang에서 2번째 요소를 집어내어 사용한다! pop함수 >> 집어내진 요소는 빠짐\n",
    "some_lang"
   ]
  },
  {
   "cell_type": "code",
   "execution_count": 48,
   "metadata": {},
   "outputs": [
    {
     "data": {
      "text/plain": [
       "['c', 'Java', 'Ruby']"
      ]
     },
     "execution_count": 48,
     "metadata": {},
     "output_type": "execute_result"
    }
   ],
   "source": [
    "lang.remove(lang[2])\n",
    "lang"
   ]
  },
  {
   "cell_type": "code",
   "execution_count": 49,
   "metadata": {},
   "outputs": [
    {
     "data": {
      "text/plain": [
       "['fastest', 'campus']"
      ]
     },
     "execution_count": 49,
     "metadata": {},
     "output_type": "execute_result"
    }
   ],
   "source": [
    "facamp = [\"fast\", \"campus\"] \n",
    "facamp[0] = \"fastest\"          ## 간단하게 리스트를 찾아 바꾸는 법. 새로 선언하면 된다\n",
    "facamp"
   ]
  },
  {
   "cell_type": "code",
   "execution_count": 50,
   "metadata": {},
   "outputs": [
    {
     "data": {
      "text/plain": [
       "['c', 'Java', 'Ruby']"
      ]
     },
     "execution_count": 50,
     "metadata": {},
     "output_type": "execute_result"
    }
   ],
   "source": [
    "lang ## pop함수 >> 집어내진 요소는 빠짐"
   ]
  },
  {
   "cell_type": "code",
   "execution_count": 51,
   "metadata": {},
   "outputs": [
    {
     "data": {
      "text/plain": [
       "[4534453, 46269, 767, 943495, 5, 12]"
      ]
     },
     "execution_count": 51,
     "metadata": {},
     "output_type": "execute_result"
    }
   ],
   "source": [
    "nums = [4534453,46269,767,943495,5,12]\n",
    "nums"
   ]
  },
  {
   "cell_type": "code",
   "execution_count": 52,
   "metadata": {},
   "outputs": [
    {
     "data": {
      "text/plain": [
       "[5, 12, 767, 46269, 943495, 4534453]"
      ]
     },
     "execution_count": 52,
     "metadata": {},
     "output_type": "execute_result"
    }
   ],
   "source": [
    "nums.sort() ## 오름차순으로 정렬\n",
    "nums"
   ]
  },
  {
   "cell_type": "code",
   "execution_count": 53,
   "metadata": {},
   "outputs": [
    {
     "data": {
      "text/plain": [
       "[4534453, 943495, 46269, 767, 12, 5]"
      ]
     },
     "execution_count": 53,
     "metadata": {},
     "output_type": "execute_result"
    }
   ],
   "source": [
    "nums.reverse() ## 역순으로 정렬\n",
    "nums"
   ]
  },
  {
   "cell_type": "code",
   "execution_count": 54,
   "metadata": {},
   "outputs": [
    {
     "data": {
      "text/plain": [
       "['c', 1, 'a']"
      ]
     },
     "execution_count": 54,
     "metadata": {},
     "output_type": "execute_result"
    }
   ],
   "source": [
    "none = [\"a\", 1, \"c\"]\n",
    "none.reverse() ## 역순으로 정렬\n",
    "none"
   ]
  },
  {
   "cell_type": "code",
   "execution_count": 55,
   "metadata": {},
   "outputs": [
    {
     "data": {
      "text/plain": [
       "[4534453, 943495, 46269, 767, 12, 5]"
      ]
     },
     "execution_count": 55,
     "metadata": {},
     "output_type": "execute_result"
    }
   ],
   "source": [
    "nums.sort(reverse = True) ## 내림차순으로 정렬\n",
    "nums"
   ]
  },
  {
   "cell_type": "code",
   "execution_count": 56,
   "metadata": {},
   "outputs": [
    {
     "data": {
      "text/plain": [
       "4"
      ]
     },
     "execution_count": 56,
     "metadata": {},
     "output_type": "execute_result"
    }
   ],
   "source": [
    "nums.index(12) ## 자리를 모르는데 값을 이용해서 위치를 구할 때 "
   ]
  },
  {
   "cell_type": "code",
   "execution_count": 57,
   "metadata": {},
   "outputs": [
    {
     "data": {
      "text/plain": [
       "[4534453, 943495, 46269, 767, 12, 5, 3, 6]"
      ]
     },
     "execution_count": 57,
     "metadata": {},
     "output_type": "execute_result"
    }
   ],
   "source": [
    "nums = nums + [3,6] ## 리스트를 더할수도 있다\n",
    "nums"
   ]
  },
  {
   "cell_type": "code",
   "execution_count": 58,
   "metadata": {},
   "outputs": [
    {
     "data": {
      "text/plain": [
       "[4534453, 943495, 46269, 767, 12, 5, 3, 6, 7, 8]"
      ]
     },
     "execution_count": 58,
     "metadata": {},
     "output_type": "execute_result"
    }
   ],
   "source": [
    "nums.extend([7,8]) ## 원래는 extend라는 메소드임\n",
    "nums"
   ]
  },
  {
   "cell_type": "code",
   "execution_count": 59,
   "metadata": {},
   "outputs": [],
   "source": [
    "## tuple은 한번 만들면 수정 추가 삭제가 불가하다\n",
    "some_tuple = (2,3,4,5)"
   ]
  },
  {
   "cell_type": "code",
   "execution_count": 60,
   "metadata": {},
   "outputs": [
    {
     "data": {
      "text/plain": [
       "(2, 3, 4, 5)"
      ]
     },
     "execution_count": 60,
     "metadata": {},
     "output_type": "execute_result"
    }
   ],
   "source": [
    "some_tuple "
   ]
  },
  {
   "cell_type": "code",
   "execution_count": 61,
   "metadata": {},
   "outputs": [
    {
     "ename": "AttributeError",
     "evalue": "'tuple' object has no attribute 'append'",
     "output_type": "error",
     "traceback": [
      "\u001b[1;31m---------------------------------------------------------------------------\u001b[0m",
      "\u001b[1;31mAttributeError\u001b[0m                            Traceback (most recent call last)",
      "\u001b[1;32m<ipython-input-61-46f41f248f8e>\u001b[0m in \u001b[0;36m<module>\u001b[1;34m()\u001b[0m\n\u001b[1;32m----> 1\u001b[1;33m \u001b[0msome_tuple\u001b[0m\u001b[1;33m.\u001b[0m\u001b[0mappend\u001b[0m\u001b[1;33m(\u001b[0m\u001b[1;33m)\u001b[0m \u001b[1;31m## 추가 불가\u001b[0m\u001b[1;33m\u001b[0m\u001b[0m\n\u001b[0m",
      "\u001b[1;31mAttributeError\u001b[0m: 'tuple' object has no attribute 'append'"
     ]
    }
   ],
   "source": [
    "some_tuple.append() ## 추가 불가"
   ]
  },
  {
   "cell_type": "code",
   "execution_count": 62,
   "metadata": {},
   "outputs": [
    {
     "ename": "TypeError",
     "evalue": "'tuple' object doesn't support item deletion",
     "output_type": "error",
     "traceback": [
      "\u001b[1;31m---------------------------------------------------------------------------\u001b[0m",
      "\u001b[1;31mTypeError\u001b[0m                                 Traceback (most recent call last)",
      "\u001b[1;32m<ipython-input-62-ab275025927b>\u001b[0m in \u001b[0;36m<module>\u001b[1;34m()\u001b[0m\n\u001b[1;32m----> 1\u001b[1;33m \u001b[1;32mdel\u001b[0m \u001b[0msome_tuple\u001b[0m\u001b[1;33m[\u001b[0m\u001b[1;36m2\u001b[0m\u001b[1;33m]\u001b[0m \u001b[1;31m## 삭제 불가\u001b[0m\u001b[1;33m\u001b[0m\u001b[0m\n\u001b[0m",
      "\u001b[1;31mTypeError\u001b[0m: 'tuple' object doesn't support item deletion"
     ]
    }
   ],
   "source": [
    "del some_tuple[2] ## 삭제 불가"
   ]
  },
  {
   "cell_type": "code",
   "execution_count": 63,
   "metadata": {},
   "outputs": [
    {
     "name": "stdout",
     "output_type": "stream",
     "text": [
      "1 2\n",
      "2 1\n"
     ]
    }
   ],
   "source": [
    "## tuple이 유일하게 가능하고 많이 사용되는 경우는 >> 내부에서 순서를 바꿀 때\n",
    "x = 1\n",
    "y = 2\n",
    "print(x,y)\n",
    "\n",
    "(x,y) = (y,x)\n",
    "print(x,y) ## x,y가 서로 바뀜"
   ]
  },
  {
   "cell_type": "code",
   "execution_count": 64,
   "metadata": {},
   "outputs": [
    {
     "data": {
      "text/plain": [
       "[2, 3, 4, 5]"
      ]
     },
     "execution_count": 64,
     "metadata": {},
     "output_type": "execute_result"
    }
   ],
   "source": [
    "tuple_to_list = list(some_tuple) ## 튜플을 리스트로 변경할 수 있다. 이제 추가 삭제 수정 가능\n",
    "tuple_to_list"
   ]
  },
  {
   "cell_type": "code",
   "execution_count": 65,
   "metadata": {},
   "outputs": [
    {
     "data": {
      "text/plain": [
       "[2, 3, 4, 5, 1]"
      ]
     },
     "execution_count": 65,
     "metadata": {},
     "output_type": "execute_result"
    }
   ],
   "source": [
    "tuple_to_list = list(some_tuple) \n",
    "tuple_to_list.append(1)\n",
    "some_tuple = tuple_to_list\n",
    "some_tuple"
   ]
  },
  {
   "cell_type": "code",
   "execution_count": null,
   "metadata": {},
   "outputs": [],
   "source": []
  },
  {
   "cell_type": "markdown",
   "metadata": {},
   "source": [
    "## 자기 자리 index가 없는 그룹 = Dictionary, Set"
   ]
  },
  {
   "cell_type": "code",
   "execution_count": 66,
   "metadata": {},
   "outputs": [],
   "source": [
    "## Dictionary = {\"key\":\"Value\"} // Set은 key가 없고, 중복 허락하지 않음"
   ]
  },
  {
   "cell_type": "code",
   "execution_count": 67,
   "metadata": {},
   "outputs": [
    {
     "data": {
      "text/plain": [
       "{}"
      ]
     },
     "execution_count": 67,
     "metadata": {},
     "output_type": "execute_result"
    }
   ],
   "source": [
    "dict1 = {}\n",
    "dict1"
   ]
  },
  {
   "cell_type": "code",
   "execution_count": 68,
   "metadata": {},
   "outputs": [],
   "source": [
    "dict1[\"name\"] = \"MSKIM\" ## index가 없으므로 이렇게 넣는다"
   ]
  },
  {
   "cell_type": "code",
   "execution_count": 69,
   "metadata": {},
   "outputs": [
    {
     "name": "stdout",
     "output_type": "stream",
     "text": [
      "{'name': 'MSKIM'}\n"
     ]
    }
   ],
   "source": [
    "print(dict1)"
   ]
  },
  {
   "cell_type": "code",
   "execution_count": 70,
   "metadata": {},
   "outputs": [],
   "source": [
    "dict1[\"Korean\"] = 20"
   ]
  },
  {
   "cell_type": "code",
   "execution_count": 71,
   "metadata": {},
   "outputs": [],
   "source": [
    "dict1[\"Math\"] = 100"
   ]
  },
  {
   "cell_type": "code",
   "execution_count": 72,
   "metadata": {},
   "outputs": [],
   "source": [
    "dict1[\"Ethics\"] = \"pass\""
   ]
  },
  {
   "cell_type": "code",
   "execution_count": 73,
   "metadata": {},
   "outputs": [],
   "source": [
    "dict1[\"Science\"] = [20,50,50,50]"
   ]
  },
  {
   "cell_type": "code",
   "execution_count": 74,
   "metadata": {},
   "outputs": [
    {
     "data": {
      "text/plain": [
       "{'Ethics': 'pass',\n",
       " 'Korean': 20,\n",
       " 'Math': 100,\n",
       " 'Science': [20, 50, 50, 50],\n",
       " 'name': 'MSKIM'}"
      ]
     },
     "execution_count": 74,
     "metadata": {},
     "output_type": "execute_result"
    }
   ],
   "source": [
    "dict1 ## 순서 없기 때문에 key값의 오름차순으로 보여줌"
   ]
  },
  {
   "cell_type": "code",
   "execution_count": 75,
   "metadata": {},
   "outputs": [
    {
     "data": {
      "text/plain": [
       "{'Korean': 20, 'Math': 100, 'Science': [20, 50, 50, 50], 'name': 'MSKIM'}"
      ]
     },
     "execution_count": 75,
     "metadata": {},
     "output_type": "execute_result"
    }
   ],
   "source": [
    "del dict1[\"Ethics\"] ## key값을 이용하여 값을 지운다\n",
    "dict1"
   ]
  },
  {
   "cell_type": "code",
   "execution_count": 76,
   "metadata": {},
   "outputs": [
    {
     "name": "stdout",
     "output_type": "stream",
     "text": [
      "100\n",
      "dict_keys(['name', 'Korean', 'Math', 'Science'])\n",
      "dict_values(['MSKIM', 20, 100, [20, 50, 50, 50]])\n",
      "dict_items([('name', 'MSKIM'), ('Korean', 20), ('Math', 100), ('Science', [20, 50, 50, 50])])\n"
     ]
    }
   ],
   "source": [
    "print(dict1[\"Math\"])\n",
    "print(dict1.keys())\n",
    "print(dict1.values())\n",
    "print(dict1.items())"
   ]
  },
  {
   "cell_type": "code",
   "execution_count": 77,
   "metadata": {},
   "outputs": [
    {
     "data": {
      "text/plain": [
       "'Math'"
      ]
     },
     "execution_count": 77,
     "metadata": {},
     "output_type": "execute_result"
    }
   ],
   "source": [
    "list(dict1.keys())[2]"
   ]
  },
  {
   "cell_type": "code",
   "execution_count": null,
   "metadata": {},
   "outputs": [],
   "source": []
  },
  {
   "cell_type": "code",
   "execution_count": 78,
   "metadata": {},
   "outputs": [],
   "source": [
    "## 집합연산을 쉽게 하기 위한 자료형 set + 중복제거에 매우 좋다"
   ]
  },
  {
   "cell_type": "code",
   "execution_count": 79,
   "metadata": {},
   "outputs": [
    {
     "data": {
      "text/plain": [
       "{'apple', 'pen', 'pineapple'}"
      ]
     },
     "execution_count": 79,
     "metadata": {},
     "output_type": "execute_result"
    }
   ],
   "source": [
    "ppap = {\"pen\", \"apple\", \"pineapple\", \"pen\"} ## key없이 {}로 선언하면 Set이 됨\n",
    "ppap"
   ]
  },
  {
   "cell_type": "code",
   "execution_count": 80,
   "metadata": {},
   "outputs": [
    {
     "data": {
      "text/plain": [
       "[1, 2, 3, 4]"
      ]
     },
     "execution_count": 80,
     "metadata": {},
     "output_type": "execute_result"
    }
   ],
   "source": [
    "multi = [1,1,2,2,3,4]\n",
    "list(set(multi)) ## set으로 한번 처리해주면 중복이 제거됨"
   ]
  },
  {
   "cell_type": "code",
   "execution_count": 81,
   "metadata": {},
   "outputs": [
    {
     "data": {
      "text/plain": [
       "True"
      ]
     },
     "execution_count": 81,
     "metadata": {},
     "output_type": "execute_result"
    }
   ],
   "source": [
    "\"pen\" in ppap"
   ]
  },
  {
   "cell_type": "code",
   "execution_count": 82,
   "metadata": {},
   "outputs": [
    {
     "data": {
      "text/plain": [
       "False"
      ]
     },
     "execution_count": 82,
     "metadata": {},
     "output_type": "execute_result"
    }
   ],
   "source": [
    "\"pan\" in ppap"
   ]
  },
  {
   "cell_type": "code",
   "execution_count": 83,
   "metadata": {},
   "outputs": [
    {
     "data": {
      "text/plain": [
       "{'a', 'c', 'f', 'm', 'p', 's', 't', 'u'}"
      ]
     },
     "execution_count": 83,
     "metadata": {},
     "output_type": "execute_result"
    }
   ],
   "source": [
    "A = set(\"fastcampus\") ## 중복이 제거됨\n",
    "A"
   ]
  },
  {
   "cell_type": "code",
   "execution_count": 84,
   "metadata": {},
   "outputs": [
    {
     "data": {
      "text/plain": [
       "{'h', 'n', 'o', 'p', 't', 'y'}"
      ]
     },
     "execution_count": 84,
     "metadata": {},
     "output_type": "execute_result"
    }
   ],
   "source": [
    "B = set(\"python\")\n",
    "B"
   ]
  },
  {
   "cell_type": "code",
   "execution_count": 85,
   "metadata": {},
   "outputs": [
    {
     "data": {
      "text/plain": [
       "{'a', 'c', 'f', 'h', 'm', 'n', 'o', 'p', 's', 't', 'u', 'y'}"
      ]
     },
     "execution_count": 85,
     "metadata": {},
     "output_type": "execute_result"
    }
   ],
   "source": [
    "A | B ## 합집합"
   ]
  },
  {
   "cell_type": "code",
   "execution_count": 86,
   "metadata": {},
   "outputs": [
    {
     "data": {
      "text/plain": [
       "{'p', 't'}"
      ]
     },
     "execution_count": 86,
     "metadata": {},
     "output_type": "execute_result"
    }
   ],
   "source": [
    "A & B ## 교집합"
   ]
  },
  {
   "cell_type": "code",
   "execution_count": 87,
   "metadata": {},
   "outputs": [
    {
     "data": {
      "text/plain": [
       "{'a', 'c', 'f', 'm', 's', 'u'}"
      ]
     },
     "execution_count": 87,
     "metadata": {},
     "output_type": "execute_result"
    }
   ],
   "source": [
    "A - B ## 차집합"
   ]
  },
  {
   "cell_type": "code",
   "execution_count": 88,
   "metadata": {},
   "outputs": [
    {
     "data": {
      "text/plain": [
       "{'a', 'c', 'f', 'h', 'm', 'n', 'o', 's', 'u', 'y'}"
      ]
     },
     "execution_count": 88,
     "metadata": {},
     "output_type": "execute_result"
    }
   ],
   "source": [
    "A ^ B ## 중복을 제거한 집합"
   ]
  },
  {
   "cell_type": "code",
   "execution_count": null,
   "metadata": {},
   "outputs": [],
   "source": []
  },
  {
   "cell_type": "markdown",
   "metadata": {},
   "source": [
    "### 조건문 ###"
   ]
  },
  {
   "cell_type": "code",
   "execution_count": 89,
   "metadata": {},
   "outputs": [],
   "source": [
    "## if 조건: \n",
    "##         실행문"
   ]
  },
  {
   "cell_type": "code",
   "execution_count": 90,
   "metadata": {},
   "outputs": [
    {
     "name": "stdout",
     "output_type": "stream",
     "text": [
      "go to restaurant\n"
     ]
    }
   ],
   "source": [
    "## if 현금 > 100000:\n",
    "##     레스토랑으로 간다\n",
    "\n",
    "cash = 125000\n",
    "if cash > 100000:\n",
    "    print(\"go to restaurant\")"
   ]
  },
  {
   "cell_type": "code",
   "execution_count": 91,
   "metadata": {},
   "outputs": [
    {
     "name": "stdout",
     "output_type": "stream",
     "text": [
      "go to cvs\n"
     ]
    }
   ],
   "source": [
    "## if 현금 > 100000:\n",
    "##     레스토랑으로 간다\n",
    "## else (그렇지 않으면)\n",
    "##     편의점으로 간다\n",
    "\n",
    "cash = 80000\n",
    "if cash > 100000:\n",
    "    print(\"go to restaurant\")\n",
    "else:\n",
    "    print(\"go to cvs\")"
   ]
  },
  {
   "cell_type": "code",
   "execution_count": 92,
   "metadata": {},
   "outputs": [
    {
     "name": "stdout",
     "output_type": "stream",
     "text": [
      "go to sundaetguk\n"
     ]
    }
   ],
   "source": [
    "## if 현금 > 100000:\n",
    "##     레스토랑으로 간다\n",
    "## else (그렇지 않으면)\n",
    "##     if 현금 > 50000\n",
    "##         순댓국으로 간다\n",
    "##     else\n",
    "##        편의점으로 간다\n",
    "\n",
    "cash = 70000\n",
    "if cash > 100000:\n",
    "    print(\"go to restaurant\")\n",
    "else:\n",
    "    if cash > 50000:\n",
    "        print(\"go to sundaetguk\")\n",
    "    else:\n",
    "        print(\"go to cvs\")"
   ]
  },
  {
   "cell_type": "code",
   "execution_count": 93,
   "metadata": {},
   "outputs": [
    {
     "name": "stdout",
     "output_type": "stream",
     "text": [
      "go to kimbab\n"
     ]
    }
   ],
   "source": [
    "## if 현금 > 100000:\n",
    "##     레스토랑으로 간다\n",
    "## else (그렇지 않으면)\n",
    "##     if 현금 > 50000\n",
    "##         순댓국으로 간다\n",
    "##     else\n",
    "##          if 현금 > 30000\n",
    "##              김밥집으로 간다\n",
    "##          else\n",
    "##              편의점으로 간다\n",
    "\n",
    "cash = 35000\n",
    "if cash > 100000:\n",
    "    print(\"go to restaurant\")\n",
    "else:\n",
    "    if cash > 50000:\n",
    "        print(\"go to sundaetguk\")\n",
    "    else: \n",
    "        if cash > 30000:\n",
    "            print (\"go to kimbab\")\n",
    "        else:\n",
    "            print(\"go to cvs\")"
   ]
  },
  {
   "cell_type": "code",
   "execution_count": 94,
   "metadata": {},
   "outputs": [
    {
     "name": "stdout",
     "output_type": "stream",
     "text": [
      "go to kimbab\n"
     ]
    }
   ],
   "source": [
    "## else\n",
    "##     if 조건: \n",
    "\n",
    "## elif 조건: \n",
    "\n",
    "cash = 35000\n",
    "if cash > 100000:\n",
    "    print(\"go to restaurant\")\n",
    "elif cash > 50000:\n",
    "    print(\"go to sundaetguk\")\n",
    "elif cash > 30000:\n",
    "    print (\"go to kimbab\")\n",
    "else:\n",
    "    print(\"go to cvs\")"
   ]
  },
  {
   "cell_type": "markdown",
   "metadata": {},
   "source": [
    "numguess"
   ]
  },
  {
   "cell_type": "code",
   "execution_count": 95,
   "metadata": {},
   "outputs": [],
   "source": [
    "import random"
   ]
  },
  {
   "cell_type": "code",
   "execution_count": 99,
   "metadata": {},
   "outputs": [
    {
     "name": "stdout",
     "output_type": "stream",
     "text": [
      "4\n",
      "Guess the number (1 to 100) >> 4\n",
      "4 4\n",
      "Congraturations!!\n"
     ]
    }
   ],
   "source": [
    "answer = random.randint(1,100) ## 1~100 중에 랜덤으로 하나 뽑음\n",
    "print(answer)\n",
    "guess = input(\"Guess the number (1 to 100) >> \") ## 사용자가 1~100중 하나의 수를 입력받도록\n",
    "print(answer, guess)\n",
    "\n",
    "if answer == int(guess): ## int로 변환한 guess값과 answer값이 같다면...\n",
    "    print(\"Congraturations!!\")\n",
    "else: \n",
    "    print(\"Oops!\")"
   ]
  },
  {
   "cell_type": "code",
   "execution_count": 97,
   "metadata": {},
   "outputs": [
    {
     "name": "stdout",
     "output_type": "stream",
     "text": [
      "1\n"
     ]
    },
    {
     "data": {
      "text/plain": [
       "str"
      ]
     },
     "execution_count": 97,
     "metadata": {},
     "output_type": "execute_result"
    }
   ],
   "source": [
    "type(input())"
   ]
  },
  {
   "cell_type": "code",
   "execution_count": 98,
   "metadata": {},
   "outputs": [
    {
     "name": "stdout",
     "output_type": "stream",
     "text": [
      "13\n",
      "Guess the number (1 to 100) >> 13\n",
      "13 13\n",
      "Congraturations!!\n"
     ]
    }
   ],
   "source": [
    "answer = random.randint(1,100) ## 1~100 중에 랜덤으로 하나 뽑음\n",
    "print(answer)\n",
    "guess = input(\"Guess the number (1 to 100) >> \") ## 사용자가 1~100중 하나의 수를 입력받도록\n",
    "print(answer, guess)\n",
    "\n",
    "if str(answer) == guess: ## str로 변환한 answer값과 guess값이 같다면...\n",
    "    print(\"Congraturations!!\")\n",
    "else: \n",
    "    print(\"Oops!\")"
   ]
  },
  {
   "cell_type": "code",
   "execution_count": 101,
   "metadata": {},
   "outputs": [
    {
     "name": "stdout",
     "output_type": "stream",
     "text": [
      "44\n",
      "Guess the number (1 to 100) >> 34\n",
      "44 34\n",
      "Oops!\n"
     ]
    }
   ],
   "source": [
    "answer = random.randint(1,100) ## 1~100 중에 랜덤으로 하나 뽑음\n",
    "print(answer)\n",
    "guess = int(input(\"Guess the number (1 to 100) >> \")) ## 사용자가 1~100중 하나의 '정수'를 입력받도록\n",
    "print(answer, guess)\n",
    "\n",
    "if answer == guess: ## guess값과 answer값이 같다면...\n",
    "    print(\"Congraturations!!\")\n",
    "else: \n",
    "    print(\"Oops!\")"
   ]
  },
  {
   "cell_type": "code",
   "execution_count": null,
   "metadata": {},
   "outputs": [],
   "source": []
  },
  {
   "cell_type": "markdown",
   "metadata": {},
   "source": [
    "## 반복문"
   ]
  },
  {
   "cell_type": "code",
   "execution_count": 102,
   "metadata": {},
   "outputs": [
    {
     "name": "stdout",
     "output_type": "stream",
     "text": [
      "1\n",
      "2\n",
      "3\n",
      "4\n",
      "5\n"
     ]
    }
   ],
   "source": [
    "for i in [1,2,3,4,5]: ## 반복문에 사용할 변수 i와 i가 존재하는 리스트를 먼저 선언!!\n",
    "    print(i)"
   ]
  },
  {
   "cell_type": "code",
   "execution_count": 103,
   "metadata": {},
   "outputs": [
    {
     "name": "stdout",
     "output_type": "stream",
     "text": [
      "1\n",
      "2\n",
      "3\n",
      "4\n",
      "5\n",
      "6\n",
      "7\n",
      "8\n",
      "9\n",
      "10\n"
     ]
    }
   ],
   "source": [
    "for i in range(1,10+1): ## 반복문에 사용할 변수 i와 i가 존재하는 리스트를 먼저 선언!! range쓸 때 +1쓰는걸 생활화 할것\n",
    "    print(i)"
   ]
  },
  {
   "cell_type": "code",
   "execution_count": 104,
   "metadata": {},
   "outputs": [
    {
     "name": "stdout",
     "output_type": "stream",
     "text": [
      "f\n",
      "a\n",
      "s\n",
      "t\n",
      "c\n",
      "a\n",
      "m\n",
      "p\n",
      "u\n",
      "s\n"
     ]
    }
   ],
   "source": [
    "for char in \"fastcampus\":\n",
    "    print(char)"
   ]
  },
  {
   "cell_type": "code",
   "execution_count": 105,
   "metadata": {
    "scrolled": true
   },
   "outputs": [
    {
     "name": "stdout",
     "output_type": "stream",
     "text": [
      "1 1\n",
      "3 2\n",
      "6 3\n",
      "10 4\n",
      "15 5\n",
      "21 6\n",
      "28 7\n",
      "36 8\n",
      "45 9\n",
      "55 10\n",
      "55\n"
     ]
    }
   ],
   "source": [
    "result = 0\n",
    "for cat in range(1,10+1): ## cat에 1부터 값이 들어가기 시작하는데\n",
    "    result = result + cat ## result에 car값을 더해서 다시 정의 > 그리고 위로 올라가서 cat + 1이 되어 시작\n",
    "    print(result, cat)\n",
    "print(result) ## 마지막에 더한 결과를 출력"
   ]
  },
  {
   "cell_type": "code",
   "execution_count": 106,
   "metadata": {},
   "outputs": [],
   "source": [
    "## while 조건: \n",
    "##          실행문"
   ]
  },
  {
   "cell_type": "code",
   "execution_count": 107,
   "metadata": {},
   "outputs": [
    {
     "name": "stdout",
     "output_type": "stream",
     "text": [
      "0\n",
      "1\n",
      "2\n",
      "3\n",
      "4\n",
      "5\n",
      "6\n",
      "7\n",
      "8\n",
      "9\n"
     ]
    }
   ],
   "source": [
    "i = 0\n",
    "while i < 10:\n",
    "    print(i)\n",
    "    i = i + 1 ## i += 1로 써도 같음"
   ]
  },
  {
   "cell_type": "code",
   "execution_count": 108,
   "metadata": {},
   "outputs": [
    {
     "name": "stdout",
     "output_type": "stream",
     "text": [
      "0\n",
      "1\n",
      "2\n",
      "3\n",
      "4\n",
      "5\n",
      "6\n",
      "7\n",
      "8\n",
      "9\n",
      "10\n"
     ]
    }
   ],
   "source": [
    "i = 0\n",
    "while i < 10:\n",
    "    print(i)\n",
    "    i += 1\n",
    "    \n",
    "print(i) ## 마지막으로 i + 1을 하고 끝났으므로 10이 출력됨"
   ]
  },
  {
   "cell_type": "code",
   "execution_count": 109,
   "metadata": {},
   "outputs": [],
   "source": [
    "## while True: ## 무한 반복문"
   ]
  },
  {
   "cell_type": "code",
   "execution_count": 110,
   "metadata": {},
   "outputs": [
    {
     "name": "stdout",
     "output_type": "stream",
     "text": [
      "Your favorite animal >> ㅇㄹ\n",
      "Oh, you like ㅇㄹ\n",
      "Your favorite animal >> df\n",
      "Oh, you like df\n",
      "Your favorite animal >> cat\n",
      "Oh, you like cat\n"
     ]
    }
   ],
   "source": [
    "animal = \"\"\n",
    "while animal != \"cat\": ## '반복이 되는' 조건 > false가 되면 반복 중단\n",
    "    animal = input(\"Your favorite animal >> \")\n",
    "    print(\"Oh, you like {}\".format(animal))"
   ]
  },
  {
   "cell_type": "code",
   "execution_count": 111,
   "metadata": {},
   "outputs": [
    {
     "name": "stdout",
     "output_type": "stream",
     "text": [
      "Your favorite animal >> cat\n",
      "Oh, I like cat too.\n"
     ]
    }
   ],
   "source": [
    "animal = \"\"\n",
    "while 1: ## 1 은 True이므로 무한반복문\n",
    "    animal = input(\"Your favorite animal >> \")\n",
    "    if animal != \"cat\":\n",
    "        print(\"Oh, you like {}.\".format(animal))\n",
    "    else:\n",
    "        print(\"Oh, I like {} too.\".format(animal))\n",
    "        break ## cat과 같아지면 반복문을 빠져나오도록"
   ]
  },
  {
   "cell_type": "markdown",
   "metadata": {},
   "source": [
    "Fizzbuzz: 1부터 100까지 반복, 3의 배수 Fizz, 5의 배수 Buzz, 15의 배수 FizzBuzz 출력할 것"
   ]
  },
  {
   "cell_type": "code",
   "execution_count": 112,
   "metadata": {},
   "outputs": [
    {
     "name": "stdout",
     "output_type": "stream",
     "text": [
      "1\n",
      "2\n",
      "Fizz\n",
      "4\n",
      "Buzz\n",
      "Fizz\n",
      "7\n",
      "8\n",
      "Fizz\n",
      "Buzz\n",
      "11\n",
      "Fizz\n",
      "13\n",
      "14\n",
      "FizzBuzz\n",
      "16\n",
      "17\n",
      "Fizz\n",
      "19\n",
      "Buzz\n",
      "Fizz\n",
      "22\n",
      "23\n",
      "Fizz\n",
      "Buzz\n",
      "26\n",
      "Fizz\n",
      "28\n",
      "29\n",
      "FizzBuzz\n",
      "31\n",
      "32\n",
      "Fizz\n",
      "34\n",
      "Buzz\n",
      "Fizz\n",
      "37\n",
      "38\n",
      "Fizz\n",
      "Buzz\n",
      "41\n",
      "Fizz\n",
      "43\n",
      "44\n",
      "FizzBuzz\n",
      "46\n",
      "47\n",
      "Fizz\n",
      "49\n",
      "Buzz\n",
      "Fizz\n",
      "52\n",
      "53\n",
      "Fizz\n",
      "Buzz\n",
      "56\n",
      "Fizz\n",
      "58\n",
      "59\n",
      "FizzBuzz\n",
      "61\n",
      "62\n",
      "Fizz\n",
      "64\n",
      "Buzz\n",
      "Fizz\n",
      "67\n",
      "68\n",
      "Fizz\n",
      "Buzz\n",
      "71\n",
      "Fizz\n",
      "73\n",
      "74\n",
      "FizzBuzz\n",
      "76\n",
      "77\n",
      "Fizz\n",
      "79\n",
      "Buzz\n",
      "Fizz\n",
      "82\n",
      "83\n",
      "Fizz\n",
      "Buzz\n",
      "86\n",
      "Fizz\n",
      "88\n",
      "89\n",
      "FizzBuzz\n",
      "91\n",
      "92\n",
      "Fizz\n",
      "94\n",
      "Buzz\n",
      "Fizz\n",
      "97\n",
      "98\n",
      "Fizz\n",
      "Buzz\n"
     ]
    }
   ],
   "source": [
    "i = 0\n",
    "for i in range(0,100):\n",
    "    i = i + 1 ## for문은 굳이 안써도 된다 range (1,100+1)도 ok.\n",
    "    if i % 15 == 0: ## 15로 나눈 값이 0이면\n",
    "        print(\"FizzBuzz\")\n",
    "    elif i % 3 == 0: ## 3로 나눈 값이 0이면\n",
    "        print(\"Fizz\")\n",
    "    elif i % 5 == 0: ## 5으로 나눈 값이 0이면\n",
    "        print(\"Buzz\")\n",
    "    else: ## 그 외에는 수로 표현한다\n",
    "        print(i)\n",
    "        "
   ]
  },
  {
   "cell_type": "code",
   "execution_count": null,
   "metadata": {},
   "outputs": [],
   "source": [
    "i = 0\n",
    "for i in range(1,100+1):\n",
    "    str = \"\"\n",
    "    if i % 3 == 0:\n",
    "        print(str + \"Fizz\")\n",
    "    if i % 5 == 0:\n",
    "        print(str + \"Buzz\")\n",
    "    else:\n",
    "        print(i)"
   ]
  },
  {
   "cell_type": "code",
   "execution_count": 8,
   "metadata": {},
   "outputs": [
    {
     "name": "stdout",
     "output_type": "stream",
     "text": [
      "89\n",
      "0 times challanged\n",
      "insert number >> 1\n",
      "Try again\n",
      "1 times challanged\n",
      "insert number >> 1\n",
      "Try again\n",
      "2 times challanged\n",
      "insert number >> 1\n",
      "Try again\n",
      "3 times challanged\n",
      "insert number >> 1\n",
      "Try again\n",
      "4 times challanged\n",
      "insert number >> 1\n",
      "Try again\n"
     ]
    }
   ],
   "source": [
    "import random\n",
    "\n",
    "answer = random.randint(1,100)\n",
    "print(answer)\n",
    "i = 0\n",
    "for i in range(0,5):\n",
    "    print(\"%d times challanged\" %(i))\n",
    "    guess = int(input(\"insert number >> \"))\n",
    "    if answer != guess:\n",
    "        print(\"Try again\")\n",
    "    else:\n",
    "        print(\"correct\")\n",
    "        break\n"
   ]
  },
  {
   "cell_type": "code",
   "execution_count": 9,
   "metadata": {},
   "outputs": [
    {
     "name": "stdout",
     "output_type": "stream",
     "text": [
      "5\n",
      "0 times challanged\n",
      "insert number >> 3\n",
      "Try bigger\n",
      "correct\n"
     ]
    }
   ],
   "source": [
    "import random\n",
    "\n",
    "answer = random.randint(1,100)\n",
    "print(answer)\n",
    "i = 0\n",
    "for i in range(0,5):\n",
    "    print(\"%d times challanged\" %(i))\n",
    "    guess = int(input(\"insert number >> \"))\n",
    "    if answer > guess:\n",
    "        print(\"Try bigger\")\n",
    "    if answer < guess:\n",
    "        print(\"Try smaller\")        \n",
    "    else:\n",
    "        print(\"correct\")\n",
    "        break\n"
   ]
  },
  {
   "cell_type": "code",
   "execution_count": 10,
   "metadata": {},
   "outputs": [
    {
     "name": "stdout",
     "output_type": "stream",
     "text": [
      "2\n",
      "insert number >> 1\n",
      "Try bigger\n",
      "4 times left\n",
      "insert number >> 3\n",
      "Try lesser\n",
      "3 times left\n",
      "insert number >> 4\n",
      "Try lesser\n",
      "2 times left\n",
      "insert number >> 6\n",
      "Try lesser\n",
      "1 times left\n",
      "insert number >> 7\n",
      "Try lesser\n",
      "Failed\n"
     ]
    }
   ],
   "source": [
    "## 정답\n",
    "\n",
    "import random\n",
    "\n",
    "answer = random.randint(1,100)\n",
    "print(answer)\n",
    "\n",
    "trial = 5\n",
    "\n",
    "while True:\n",
    "    guess = int(input(\"insert number >> \"))\n",
    "    if guess == answer:\n",
    "        print(\"correct\")\n",
    "        break\n",
    "    else:\n",
    "        if guess > answer:\n",
    "            print(\"Try lesser\")\n",
    "        if guess < answer:\n",
    "            print(\"Try bigger\")\n",
    "        \n",
    "        trial -= 1\n",
    "        \n",
    "        if trial == 0:\n",
    "            print(\"Failed\")\n",
    "            break\n",
    "        else:\n",
    "             print(\"{} times left\".format(trial))"
   ]
  },
  {
   "cell_type": "code",
   "execution_count": null,
   "metadata": {},
   "outputs": [],
   "source": []
  }
 ],
 "metadata": {
  "kernelspec": {
   "display_name": "Python 3",
   "language": "python",
   "name": "python3"
  },
  "language_info": {
   "codemirror_mode": {
    "name": "ipython",
    "version": 3
   },
   "file_extension": ".py",
   "mimetype": "text/x-python",
   "name": "python",
   "nbconvert_exporter": "python",
   "pygments_lexer": "ipython3",
   "version": "3.6.4"
  }
 },
 "nbformat": 4,
 "nbformat_minor": 2
}
