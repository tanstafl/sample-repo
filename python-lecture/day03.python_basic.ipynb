{
 "cells": [
  {
   "cell_type": "markdown",
   "metadata": {},
   "source": [
    "## Function"
   ]
  },
  {
   "cell_type": "code",
   "execution_count": 1,
   "metadata": {},
   "outputs": [],
   "source": [
    "## def function(parameter):\n",
    "##     실행문1\n",
    "##     실행문2\n",
    "##     ...\n",
    "##     return output"
   ]
  },
  {
   "cell_type": "code",
   "execution_count": 3,
   "metadata": {},
   "outputs": [
    {
     "data": {
      "text/plain": [
       "2"
      ]
     },
     "execution_count": 3,
     "metadata": {},
     "output_type": "execute_result"
    }
   ],
   "source": [
    "1 + 1"
   ]
  },
  {
   "cell_type": "code",
   "execution_count": 6,
   "metadata": {},
   "outputs": [],
   "source": [
    "def summation(a, b):\n",
    "    result = a + b\n",
    "    return result ## 더한 값인 result를 output으로 하라는 코드"
   ]
  },
  {
   "cell_type": "code",
   "execution_count": 7,
   "metadata": {},
   "outputs": [
    {
     "data": {
      "text/plain": [
       "5907787742"
      ]
     },
     "execution_count": 7,
     "metadata": {},
     "output_type": "execute_result"
    }
   ],
   "source": [
    "summation(2434839759,3472947983)"
   ]
  },
  {
   "cell_type": "code",
   "execution_count": 8,
   "metadata": {},
   "outputs": [],
   "source": [
    "def multiply(a,b):\n",
    "    result = a * b\n",
    "    return result"
   ]
  },
  {
   "cell_type": "code",
   "execution_count": 6,
   "metadata": {},
   "outputs": [
    {
     "data": {
      "text/plain": [
       "350"
      ]
     },
     "execution_count": 6,
     "metadata": {},
     "output_type": "execute_result"
    }
   ],
   "source": [
    "multiply(35, 10)"
   ]
  },
  {
   "cell_type": "markdown",
   "metadata": {},
   "source": [
    "### function without input"
   ]
  },
  {
   "cell_type": "code",
   "execution_count": 7,
   "metadata": {},
   "outputs": [],
   "source": [
    "def print_hello():\n",
    "    return \"Hello Python!\" "
   ]
  },
  {
   "cell_type": "code",
   "execution_count": 8,
   "metadata": {},
   "outputs": [
    {
     "data": {
      "text/plain": [
       "'Hello Python!'"
      ]
     },
     "execution_count": 8,
     "metadata": {},
     "output_type": "execute_result"
    }
   ],
   "source": [
    "print_hello() ## input없이도 함수 정의는 가능하다. "
   ]
  },
  {
   "cell_type": "code",
   "execution_count": 9,
   "metadata": {},
   "outputs": [],
   "source": [
    "def print_hello_2():\n",
    "    hello = \"Hello Python again!\"\n",
    "    return hello"
   ]
  },
  {
   "cell_type": "code",
   "execution_count": 10,
   "metadata": {},
   "outputs": [
    {
     "data": {
      "text/plain": [
       "'Hello Python again!'"
      ]
     },
     "execution_count": 10,
     "metadata": {},
     "output_type": "execute_result"
    }
   ],
   "source": [
    "print_hello_2()"
   ]
  },
  {
   "cell_type": "markdown",
   "metadata": {},
   "source": [
    "### function without return"
   ]
  },
  {
   "cell_type": "code",
   "execution_count": 11,
   "metadata": {},
   "outputs": [],
   "source": [
    "def func_wo_return(a):\n",
    "    print(\"This is function {} return\".format(a))"
   ]
  },
  {
   "cell_type": "code",
   "execution_count": 12,
   "metadata": {},
   "outputs": [
    {
     "name": "stdout",
     "output_type": "stream",
     "text": [
      "This is function with return\n"
     ]
    }
   ],
   "source": [
    "func_wo_return(\"with\") ## return없이 실행만 함. 메모리에 저장하지 않고 1회성으로 실행하고 끝나면 되는 경우 사용"
   ]
  },
  {
   "cell_type": "code",
   "execution_count": 13,
   "metadata": {},
   "outputs": [
    {
     "data": {
      "text/plain": [
       "'Hello Python!'"
      ]
     },
     "execution_count": 13,
     "metadata": {},
     "output_type": "execute_result"
    }
   ],
   "source": [
    "some_string = print_hello()\n",
    "some_string ## return이 있으므로 저장할 값이 있다"
   ]
  },
  {
   "cell_type": "code",
   "execution_count": 14,
   "metadata": {},
   "outputs": [
    {
     "name": "stdout",
     "output_type": "stream",
     "text": [
      "This is function without return\n",
      "None\n"
     ]
    }
   ],
   "source": [
    "another_string = func_wo_return(\"without\")\n",
    "print(another_string) ## return이 없으므로 저장할 값이 없다"
   ]
  },
  {
   "cell_type": "code",
   "execution_count": 15,
   "metadata": {},
   "outputs": [],
   "source": [
    "some_list = [2,4,1,]\n",
    "sorted_list = some_list.sort() ## sort함수가 대표적인 return없는 함수"
   ]
  },
  {
   "cell_type": "code",
   "execution_count": 16,
   "metadata": {},
   "outputs": [
    {
     "name": "stdout",
     "output_type": "stream",
     "text": [
      "[1, 2, 4]\n",
      "None\n"
     ]
    }
   ],
   "source": [
    "print(some_list) ## 위에서 정렬된 some_list가 나오고\n",
    "print(sorted_list) ## sort하고 끝났으므로 저장된 값은 없다"
   ]
  },
  {
   "cell_type": "markdown",
   "metadata": {},
   "source": [
    "### function with multiple return"
   ]
  },
  {
   "cell_type": "code",
   "execution_count": 17,
   "metadata": {},
   "outputs": [],
   "source": [
    "def multiple_return():\n",
    "    pass\n",
    "\n",
    "def multiple_multiply():\n",
    "    pass ## 함수 이름만 정의했을때 꼭 끝에 pass를 붙여 놓을 것"
   ]
  },
  {
   "cell_type": "code",
   "execution_count": 18,
   "metadata": {},
   "outputs": [],
   "source": [
    "def multiple_return(a):\n",
    "    b = a + 1024\n",
    "    return a, b"
   ]
  },
  {
   "cell_type": "code",
   "execution_count": 19,
   "metadata": {},
   "outputs": [
    {
     "data": {
      "text/plain": [
       "(4, 1028)"
      ]
     },
     "execution_count": 19,
     "metadata": {},
     "output_type": "execute_result"
    }
   ],
   "source": [
    "multiple_return(4)"
   ]
  },
  {
   "cell_type": "code",
   "execution_count": 20,
   "metadata": {},
   "outputs": [
    {
     "name": "stdout",
     "output_type": "stream",
     "text": [
      "(-24, 1000)\n",
      "-24\n",
      "1000\n"
     ]
    }
   ],
   "source": [
    "print(multiple_return(-24)) ## multiple return은 튜플로 출력\n",
    "print(multiple_return(-24)[0])\n",
    "print(multiple_return(-24)[1])"
   ]
  },
  {
   "cell_type": "code",
   "execution_count": 21,
   "metadata": {},
   "outputs": [
    {
     "name": "stdout",
     "output_type": "stream",
     "text": [
      "-24 1000\n",
      "-1024\n"
     ]
    }
   ],
   "source": [
    "x, y = multiple_return(-24) ## 리턴값을 각각 변수로 저장\n",
    "print(x, y)\n",
    "print(x - y)"
   ]
  },
  {
   "cell_type": "code",
   "execution_count": 22,
   "metadata": {},
   "outputs": [
    {
     "name": "stdout",
     "output_type": "stream",
     "text": [
      "Enter username?ew\n",
      "Valid username: ew\n",
      "anything else?\n"
     ]
    }
   ],
   "source": [
    "## return을 선언하면, 마치 while문의 'break'처럼 조기 종료시킬 수 있다. \n",
    "\n",
    "def id_check(username):\n",
    "    if username == \"admin\":\n",
    "        return \"Invalid username: {}\".format(username) ## admin을 입력할 경우 return이 있으므로 여기서 끝나고, 마지막에 anything else?를 출력하지 않는다 \n",
    "    else:\n",
    "        print(\"Valid username: {}\".format(username))\n",
    "    \n",
    "    print(\"anything else?\")\n",
    "\n",
    "username = input(\"Enter username?\")\n",
    "id_check(username)"
   ]
  },
  {
   "cell_type": "code",
   "execution_count": 23,
   "metadata": {},
   "outputs": [
    {
     "data": {
      "text/plain": [
       "'Hi, fastcampus'"
      ]
     },
     "execution_count": 23,
     "metadata": {},
     "output_type": "execute_result"
    }
   ],
   "source": [
    "def say_hello(name):\n",
    "    return \"Hi, {}\".format(name)\n",
    "\n",
    "say_hello(\"fastcampus\")"
   ]
  },
  {
   "cell_type": "code",
   "execution_count": 24,
   "metadata": {},
   "outputs": [
    {
     "data": {
      "text/plain": [
       "'Hi, Fool'"
      ]
     },
     "execution_count": 24,
     "metadata": {},
     "output_type": "execute_result"
    }
   ],
   "source": [
    "def say_hello(name = 'Fool'): ## 기본값을 정해주는 것\n",
    "    return \"Hi, {}\".format(name)\n",
    "\n",
    "say_hello() ## 함수의 입력을 하지 않은 경우, 미리 설정한 기본값을 따라서 함수가 작동된다. "
   ]
  },
  {
   "cell_type": "code",
   "execution_count": 25,
   "metadata": {},
   "outputs": [
    {
     "name": "stdout",
     "output_type": "stream",
     "text": [
      "Oh, you are Fool\n",
      "Hi, YJ\n"
     ]
    }
   ],
   "source": [
    "def say_hello(name = 'Fool'): ## 기본값을 정해주는 것\n",
    "    if name == 'Fool':\n",
    "        return \"Oh, you are {}\".format(name)\n",
    "    else: \n",
    "        return \"Hi, {}\".format(name)\n",
    "    \n",
    "print(say_hello()) ## 입력값이 없는 경우 => 기본값을 넣은 함수\n",
    "print(say_hello(\"YJ\")) ## 입력값이 있는 경우\n",
    "\n",
    "## 위 방법을 이용해서 두가지 기능을 하는 함수를 한 함수로 만들 수 있다. "
   ]
  },
  {
   "cell_type": "code",
   "execution_count": 26,
   "metadata": {},
   "outputs": [
    {
     "data": {
      "text/plain": [
       "'Oh, you are 1 Fool'"
      ]
     },
     "execution_count": 26,
     "metadata": {},
     "output_type": "execute_result"
    }
   ],
   "source": [
    "def say_hello(a, name = 'Fool'): ## 기본값을 정해주는 변수는 반드시 맨 마지막에 있어야 한다. (name=\"Fool\", a)로 하면 오류남\n",
    "    if name == 'Fool':\n",
    "        return \"Oh, you are {} {}\".format(a, name)\n",
    "    else: \n",
    "        return \"Hi, {} {}\".format(a, name)\n",
    "    \n",
    "say_hello(1)"
   ]
  },
  {
   "cell_type": "code",
   "execution_count": 27,
   "metadata": {},
   "outputs": [
    {
     "data": {
      "text/plain": [
       "'Oh, you are 1 Fool and kor'"
      ]
     },
     "execution_count": 27,
     "metadata": {},
     "output_type": "execute_result"
    }
   ],
   "source": [
    "def say_hello(a, name = 'Fool', lang = \"kor\"): ## 기본값을 여러개 줄 수 있다\n",
    "    if name == 'Fool':\n",
    "        return \"Oh, you are {} {} and {}\".format(a, name, lang)\n",
    "    else: \n",
    "        return \"Hi, {} {} and {}\".format(a, name, lang)\n",
    "    \n",
    "say_hello(1)"
   ]
  },
  {
   "cell_type": "markdown",
   "metadata": {},
   "source": [
    "### Argument: 몇개인지 알 수 없는 여러개의 입력값을 받고 싶을 때"
   ]
  },
  {
   "cell_type": "code",
   "execution_count": 28,
   "metadata": {},
   "outputs": [],
   "source": [
    "def multiple_sum(*args): ## *args에 여러개의 값이 들어와도 작동한다, *args도 맨 끝에 붙여야 한다\n",
    "    sum_ = 0\n",
    "    for i in args:\n",
    "        sum_ += i ## sum_ = sum_ + i\n",
    "    return sum_ ## 여러 값을 넣어도 다 더한 뒤 리턴한다"
   ]
  },
  {
   "cell_type": "code",
   "execution_count": 29,
   "metadata": {},
   "outputs": [
    {
     "data": {
      "text/plain": [
       "55"
      ]
     },
     "execution_count": 29,
     "metadata": {},
     "output_type": "execute_result"
    }
   ],
   "source": [
    "multiple_sum(1,2,3,4,5,6,7,8,9,10)"
   ]
  },
  {
   "cell_type": "code",
   "execution_count": 30,
   "metadata": {},
   "outputs": [
    {
     "name": "stdout",
     "output_type": "stream",
     "text": [
      "1 2\n"
     ]
    },
    {
     "data": {
      "text/plain": [
       "12"
      ]
     },
     "execution_count": 30,
     "metadata": {},
     "output_type": "execute_result"
    }
   ],
   "source": [
    "def multiple_sum(a, b, *args): ##  *args도 맨 끝에 붙여야 한다\n",
    "    print(a,b)\n",
    "    sum_ = 0\n",
    "    for i in args:\n",
    "        sum_ += i ## sum_ = sum_ + i\n",
    "    return sum_ ## 여러 값을 넣어도 다 더한 뒤 리턴한다\n",
    "\n",
    "multiple_sum(1,2,3,4,5) ## 1, 2는 출력되고 이후 3,4,5가 args라서 sum_으로 합쳐저서 리턴된다"
   ]
  },
  {
   "cell_type": "code",
   "execution_count": 31,
   "metadata": {},
   "outputs": [
    {
     "data": {
      "text/plain": [
       "120"
      ]
     },
     "execution_count": 31,
     "metadata": {},
     "output_type": "execute_result"
    }
   ],
   "source": [
    "def multiple_multiply(*variables): ## *args로 꼭 써야하는 건 아님\n",
    "    by_ = 1\n",
    "    for i in variables:\n",
    "        by_ *= i ## by_ = by_ * i \n",
    "    return by_\n",
    "\n",
    "multiple_multiply(1,2,3,4,5)"
   ]
  },
  {
   "cell_type": "markdown",
   "metadata": {},
   "source": [
    "### keyword arguments: dictionary형태로 값을 넣고 싶을 때"
   ]
  },
  {
   "cell_type": "code",
   "execution_count": 32,
   "metadata": {},
   "outputs": [],
   "source": [
    "def show_kwargs(**kwargs):\n",
    "    return str(kwargs)\n"
   ]
  },
  {
   "cell_type": "code",
   "execution_count": 33,
   "metadata": {},
   "outputs": [
    {
     "name": "stdout",
     "output_type": "stream",
     "text": [
      "{'a': 10, 'b': True, 'c': 'Korea'}\n"
     ]
    }
   ],
   "source": [
    "print(show_kwargs(a = 10, b = True, c = \"Korea\")) ## dict형태로 kwargs변수에 넣어준다"
   ]
  },
  {
   "cell_type": "code",
   "execution_count": 34,
   "metadata": {},
   "outputs": [
    {
     "data": {
      "text/plain": [
       "'https://finance.yahoo.com:4096/lookup'"
      ]
     },
     "execution_count": 34,
     "metadata": {},
     "output_type": "execute_result"
    }
   ],
   "source": [
    "def kwargs_url(server, port):\n",
    "    url = \"https://\" + server + \":\" + port + \"/lookup\"\n",
    "    return url\n",
    "\n",
    "kwargs_url(\"finance.yahoo.com\", \"4096\")"
   ]
  },
  {
   "cell_type": "code",
   "execution_count": 35,
   "metadata": {},
   "outputs": [
    {
     "data": {
      "text/plain": [
       "'https://finance.yahoo.com:4096/lookup?s=APPLE&'"
      ]
     },
     "execution_count": 35,
     "metadata": {},
     "output_type": "execute_result"
    }
   ],
   "source": [
    "def kwargs_url(server, port, **query):\n",
    "    url = \"https://\" + server + \":\" + port + \"/lookup?\"\n",
    "    \n",
    "    for key in query.keys(): ## **query 딕셔너리 값에서 key를 하나씩 빼서 반복 ## .keys()함수는 딕셔너리값에서 key값을 부르는 기본함수\n",
    "        url = url + key + \"=\" + query[key] + \"&\" ## query[key] = value를 빼주겠지 \n",
    "    \n",
    "    return url\n",
    "\n",
    "kwargs_url(\"finance.yahoo.com\", \"4096\", s=\"APPLE\")"
   ]
  },
  {
   "cell_type": "code",
   "execution_count": 36,
   "metadata": {},
   "outputs": [
    {
     "data": {
      "text/plain": [
       "'https://finance.yahoo.com:4096/lookup?s=APPLE&ie=utf&utm=source&'"
      ]
     },
     "execution_count": 36,
     "metadata": {},
     "output_type": "execute_result"
    }
   ],
   "source": [
    "def kwargs_url(server, port, **query):\n",
    "    url = \"https://\" + server + \":\" + port + \"/lookup?\"\n",
    "    \n",
    "    for key in query.keys(): ## **query 딕셔너리 값에서 key를 하나씩 빼서 반복\n",
    "        url = url + key + \"=\" + query[key] + \"&\" ## query[key] = value를 빼주겠지 \n",
    "    \n",
    "    return url\n",
    "\n",
    "kwargs_url(\"finance.yahoo.com\", \"4096\", s = \"APPLE\", ie = \"utf\", utm = \"source\")"
   ]
  },
  {
   "cell_type": "code",
   "execution_count": 37,
   "metadata": {},
   "outputs": [
    {
     "data": {
      "text/plain": [
       "'https://search.naver.com:443/search.naver?where=nexearch&ie=utf-8&query=성수역'"
      ]
     },
     "execution_count": 37,
     "metadata": {},
     "output_type": "execute_result"
    }
   ],
   "source": [
    "def kwargs_url_naver(server, port, **query):\n",
    "    url = \"https://\" + server + \":\" + port + \"/search.naver?\"\n",
    "    \n",
    "    for key in query.keys(): \n",
    "        url = url + key + \"=\" + query[key] + \"&\"  \n",
    "    \n",
    "    return url[:-1] ## url string에서 마지막 문자를 뺀 것, 마지막 \"&\"를 빼준다 == url[:len(url)-1]\n",
    "\n",
    "kwargs_url_naver(\"search.naver.com\", \"443\", where = \"nexearch\", ie = \"utf-8\", query= \"성수역\")"
   ]
  },
  {
   "cell_type": "code",
   "execution_count": null,
   "metadata": {},
   "outputs": [],
   "source": []
  },
  {
   "cell_type": "code",
   "execution_count": 38,
   "metadata": {},
   "outputs": [],
   "source": [
    "a = 10\n",
    "def chheck_num(a): ## 위에 있는 변수 a와 함수의 정의역 a는 다른 값이다 함수 내 변수는 내부변수로 따로 논다\n",
    "    pass"
   ]
  },
  {
   "cell_type": "code",
   "execution_count": 39,
   "metadata": {},
   "outputs": [
    {
     "data": {
      "text/plain": [
       "'hello world'"
      ]
     },
     "execution_count": 39,
     "metadata": {},
     "output_type": "execute_result"
    }
   ],
   "source": [
    "a = \"hello\" ## 이 a는 전체에서 사용되는, 등록된 변수 = 전역변수\n",
    "\n",
    "def complete_hello(a): ## 이 a는 함수내에서만 쓰이는 변수이름 = 지역변수\n",
    "    a += \" world\"\n",
    "    return a \n",
    "\n",
    "complete_hello(a) ## 여기의 a는 맨 윗줄 선언한 변수 a "
   ]
  },
  {
   "cell_type": "code",
   "execution_count": 40,
   "metadata": {},
   "outputs": [
    {
     "data": {
      "text/plain": [
       "'hello world'"
      ]
     },
     "execution_count": 40,
     "metadata": {},
     "output_type": "execute_result"
    }
   ],
   "source": [
    "a = \"hello\"\n",
    "\n",
    "def complete_hello(x):\n",
    "    x += \" world\"\n",
    "    return x \n",
    "\n",
    "complete_hello(a) ## 여기의 a는 맨 윗줄 선언한 변수 a이다. x는 함수 내부에서만 쓰이는 변수이다!!!"
   ]
  },
  {
   "cell_type": "code",
   "execution_count": 41,
   "metadata": {},
   "outputs": [
    {
     "name": "stdout",
     "output_type": "stream",
     "text": [
      "hello world\n"
     ]
    }
   ],
   "source": [
    "## 그럼 외부에서 선언한 변수를 함수 내에서 쓰고 싶으면 어떻게 할까?\n",
    "\n",
    "## 1. 함수로 연산한 값을 원래 변수에 덮어 쓰는 단순한 방법\n",
    "a = \"hello\"\n",
    "def glob_test(x):\n",
    "    x += \" world\"\n",
    "    return x\n",
    "\n",
    "a = glob_test(a) ## 함수로 계산한 값을 덮어쓰기\n",
    "print(a) ## 덮어쓴 a는 hello world로 바뀜"
   ]
  },
  {
   "cell_type": "code",
   "execution_count": 42,
   "metadata": {},
   "outputs": [
    {
     "name": "stdout",
     "output_type": "stream",
     "text": [
      "hello\n",
      "hello world\n"
     ]
    }
   ],
   "source": [
    "## 2. 전역변수 a를 함수 내로 불러오는 방법 global >> 가급적 사용하지 않는 것이 좋다. \n",
    "\n",
    "a = \"hello\"\n",
    "print(a)\n",
    "\n",
    "def awful_glob():\n",
    "    global a ## global a라고 하면 전역변수 중 a라는 변수를 찾는다. a가 만약 선언된 적이 없다면? 무조건 에러. 그래서 가급적 쓰지마라\n",
    "    a += \" world\"\n",
    "    \n",
    "awful_glob()\n",
    "print(a)"
   ]
  },
  {
   "cell_type": "code",
   "execution_count": null,
   "metadata": {},
   "outputs": [],
   "source": []
  },
  {
   "cell_type": "markdown",
   "metadata": {},
   "source": [
    "## 함수 활용"
   ]
  },
  {
   "cell_type": "code",
   "execution_count": 43,
   "metadata": {},
   "outputs": [
    {
     "name": "stdout",
     "output_type": "stream",
     "text": [
      "Type the year 2004\n"
     ]
    },
    {
     "data": {
      "text/plain": [
       "'윤년입니다'"
      ]
     },
     "execution_count": 43,
     "metadata": {},
     "output_type": "execute_result"
    }
   ],
   "source": [
    "## 윤년 계산기\n",
    "\n",
    "def is_leap(a):\n",
    "    if a % 400 == 0:\n",
    "        return \"윤년입니다\"\n",
    "    elif a % 100 == 0:\n",
    "        return \"평년입니다\"\n",
    "    elif a % 4 == 0:\n",
    "        return \"윤년입니다\"\n",
    "    else: \n",
    "        return \"평년입니다\"\n",
    "\n",
    "    \n",
    "year = int(input(\"Type the year \"))\n",
    "is_leap(year)"
   ]
  },
  {
   "cell_type": "code",
   "execution_count": 2,
   "metadata": {},
   "outputs": [
    {
     "name": "stdout",
     "output_type": "stream",
     "text": [
      "Type the year 2300\n"
     ]
    },
    {
     "data": {
      "text/plain": [
       "'평년입니다'"
      ]
     },
     "execution_count": 2,
     "metadata": {},
     "output_type": "execute_result"
    }
   ],
   "source": [
    "## 윤년 계산기2\n",
    "\n",
    "## 2001 => x\n",
    "## 2004 => 4\n",
    "## 2100 => 4, 100\n",
    "## 2400 => 4, 100, 400\n",
    "\n",
    "def is_leap2(a):\n",
    "    if a % 4 == 0 and (a % 100 != 0 or a % 400 == 0): ## 4의 배수이면서 (100의 배수가 아니거나 400의 배수이거나): 괄호 없어도 같음\n",
    "        return \"윤년입니다\"\n",
    "    else:\n",
    "        return \"평년입니다\"\n",
    "        \n",
    "year = int(input(\"Type the year \"))\n",
    "is_leap2(year)"
   ]
  },
  {
   "cell_type": "code",
   "execution_count": 3,
   "metadata": {},
   "outputs": [
    {
     "data": {
      "text/plain": [
       "'윤년입니다'"
      ]
     },
     "execution_count": 3,
     "metadata": {},
     "output_type": "execute_result"
    }
   ],
   "source": [
    "is_leap2(2004) ## 함수를 한번 정의하면 언제든 꺼내 쓸 수 있다"
   ]
  },
  {
   "cell_type": "code",
   "execution_count": null,
   "metadata": {},
   "outputs": [],
   "source": []
  },
  {
   "cell_type": "code",
   "execution_count": 4,
   "metadata": {},
   "outputs": [
    {
     "name": "stdout",
     "output_type": "stream",
     "text": [
      "61\n",
      "insert number >> 3\n",
      "Try bigger\n",
      "4 times left\n",
      "insert number >> 4\n",
      "Try bigger\n",
      "3 times left\n",
      "insert number >> 5\n",
      "Try bigger\n",
      "2 times left\n",
      "insert number >> 6\n",
      "Try bigger\n",
      "1 times left\n",
      "insert number >> 3\n",
      "Try bigger\n",
      "Failed\n"
     ]
    }
   ],
   "source": [
    "## numguess 함수로 만들기\n",
    "\n",
    "import random\n",
    "\n",
    "answer = random.randint(1,100)\n",
    "print(answer)\n",
    "\n",
    "trial = 5\n",
    "\n",
    "def numguess(guess):\n",
    "    global trial\n",
    "    if guess == answer:\n",
    "        print(\"correct\")\n",
    "        trial = 0\n",
    "    else:\n",
    "        if guess > answer:\n",
    "            print(\"Try lesser\")\n",
    "        if guess < answer:\n",
    "            print(\"Try bigger\")\n",
    "        \n",
    "        trial -= 1\n",
    "        \n",
    "        if trial == 0:\n",
    "            print(\"Failed\")\n",
    "            \n",
    "        else:\n",
    "             print(\"{} times left\".format(trial))\n",
    "\n",
    "while trial > 0:\n",
    "    guess = int(input(\"insert number >> \"))\n",
    "    numguess(guess)\n",
    "    "
   ]
  },
  {
   "cell_type": "markdown",
   "metadata": {},
   "source": [
    "### 재귀호출"
   ]
  },
  {
   "cell_type": "code",
   "execution_count": 6,
   "metadata": {},
   "outputs": [
    {
     "name": "stdout",
     "output_type": "stream",
     "text": [
      "Hello world\n",
      "Hello world\n",
      "Hello world\n",
      "Hello world\n",
      "Hello world\n"
     ]
    }
   ],
   "source": [
    "for i in range(1,5+1):\n",
    "    print(\"Hello world\")"
   ]
  },
  {
   "cell_type": "code",
   "execution_count": 7,
   "metadata": {},
   "outputs": [],
   "source": [
    "## 재귀 함수 호출 \n",
    "\n",
    "def print_hello(recur):\n",
    "    if recur == 0: ## recur 값을 확인하여 0이 되는 순간 아무값도 반환하지 않고 끝냄\n",
    "        return \n",
    "    \n",
    "    print(\"Hello world\")\n",
    "\n",
    "    return print_hello(recur - 1) ## 함수 자기 자신을 반환하면서 recur의 수를 1 줄임"
   ]
  },
  {
   "cell_type": "code",
   "execution_count": 9,
   "metadata": {},
   "outputs": [
    {
     "name": "stdout",
     "output_type": "stream",
     "text": [
      "Hello world\n",
      "Hello world\n",
      "Hello world\n",
      "Hello world\n",
      "Hello world\n"
     ]
    }
   ],
   "source": [
    "print_hello(5) ## 총 5번 실행 후 아무것도 리턴하지 않는 것으로 끝냄"
   ]
  },
  {
   "cell_type": "code",
   "execution_count": 19,
   "metadata": {},
   "outputs": [],
   "source": [
    "## recursive 함수 구혐: 반드시 끝나는 조건을 규정해야함\n",
    "\n",
    "def curse_beast(trial):\n",
    "    if trial == 0:\n",
    "        return \"Curse complete!\"\n",
    "    else:\n",
    "        print(\"Cursed! ({}times left)\".format(trial-1))\n",
    "        return curse_beast(trial-1)"
   ]
  },
  {
   "cell_type": "code",
   "execution_count": 20,
   "metadata": {},
   "outputs": [
    {
     "name": "stdout",
     "output_type": "stream",
     "text": [
      "How many times want to curse the bease? 5\n",
      "Cursed! (4times left)\n",
      "Cursed! (3times left)\n",
      "Cursed! (2times left)\n",
      "Cursed! (1times left)\n",
      "Cursed! (0times left)\n"
     ]
    },
    {
     "data": {
      "text/plain": [
       "'Curse complete!'"
      ]
     },
     "execution_count": 20,
     "metadata": {},
     "output_type": "execute_result"
    }
   ],
   "source": [
    "trial = int(input(\"How many times want to curse the bease? \"))\n",
    "curse_beast(trial)"
   ]
  },
  {
   "cell_type": "code",
   "execution_count": null,
   "metadata": {},
   "outputs": [],
   "source": []
  },
  {
   "cell_type": "markdown",
   "metadata": {},
   "source": [
    "### list comprehension"
   ]
  },
  {
   "cell_type": "code",
   "execution_count": 1,
   "metadata": {},
   "outputs": [
    {
     "name": "stdout",
     "output_type": "stream",
     "text": [
      "[2, 4, 6, 8, 10]\n"
     ]
    }
   ],
   "source": [
    "## 기존 list에서 각각 2배 처리를 힌 새로운 리스트를 만들어라\n",
    "\n",
    "old_list = [1,2,3,4,5] \n",
    "\n",
    "doubled_list = []\n",
    "for i in old_list:\n",
    "    doubled_list.append(i*2)\n",
    "\n",
    "print(doubled_list)"
   ]
  },
  {
   "cell_type": "code",
   "execution_count": 2,
   "metadata": {},
   "outputs": [],
   "source": [
    "doubled_list = []"
   ]
  },
  {
   "cell_type": "code",
   "execution_count": 3,
   "metadata": {},
   "outputs": [],
   "source": [
    "doubled_list = [i*2 for i in old_list] ## 리스트를 이렇게 채워넣을 수 있다!!!!"
   ]
  },
  {
   "cell_type": "code",
   "execution_count": 4,
   "metadata": {},
   "outputs": [
    {
     "data": {
      "text/plain": [
       "[2, 4, 6, 8, 10]"
      ]
     },
     "execution_count": 4,
     "metadata": {},
     "output_type": "execute_result"
    }
   ],
   "source": [
    "doubled_list"
   ]
  },
  {
   "cell_type": "code",
   "execution_count": 5,
   "metadata": {},
   "outputs": [],
   "source": [
    "tripled_list = [i*3 for i in old_list] ## 반복문을 바로 list안에 넣어서 채울 수 있다. "
   ]
  },
  {
   "cell_type": "code",
   "execution_count": 6,
   "metadata": {},
   "outputs": [
    {
     "data": {
      "text/plain": [
       "[3, 6, 9, 12, 15]"
      ]
     },
     "execution_count": 6,
     "metadata": {},
     "output_type": "execute_result"
    }
   ],
   "source": [
    "tripled_list"
   ]
  },
  {
   "cell_type": "markdown",
   "metadata": {},
   "source": [
    "## 만들 리스트를 선언하고, []안에 할일을 넣고, 이후 반복/조건문을 넣는다!!!"
   ]
  },
  {
   "cell_type": "code",
   "execution_count": 8,
   "metadata": {},
   "outputs": [
    {
     "data": {
      "text/plain": [
       "[4, 8]"
      ]
     },
     "execution_count": 8,
     "metadata": {},
     "output_type": "execute_result"
    }
   ],
   "source": [
    "## 1~5 중에서 짝수만 골라서 2배로 만들어 리스트에 넣어라\n",
    "\n",
    "new_doubled_list = []\n",
    "\n",
    "for i in range(1,5):\n",
    "    if i % 2 == 0:\n",
    "        new_doubled_list.append(i*2)\n",
    "        \n",
    "new_doubled_list"
   ]
  },
  {
   "cell_type": "code",
   "execution_count": 9,
   "metadata": {},
   "outputs": [],
   "source": [
    "new_doubled_list2 = [i*2 for i in range(1,5) if i % 2 == 0] ## 시킬일, 반복문, 조건문을 순서대로 작성하면 된다!!!"
   ]
  },
  {
   "cell_type": "code",
   "execution_count": 11,
   "metadata": {},
   "outputs": [
    {
     "data": {
      "text/plain": [
       "[4, 8]"
      ]
     },
     "execution_count": 11,
     "metadata": {},
     "output_type": "execute_result"
    }
   ],
   "source": [
    "new_doubled_list2"
   ]
  },
  {
   "cell_type": "code",
   "execution_count": null,
   "metadata": {},
   "outputs": [],
   "source": []
  },
  {
   "cell_type": "code",
   "execution_count": 12,
   "metadata": {},
   "outputs": [],
   "source": [
    "## 숙제: list comprehension으로 FizzBuzz 한줄로 구현하기"
   ]
  },
  {
   "cell_type": "code",
   "execution_count": 13,
   "metadata": {},
   "outputs": [],
   "source": [
    "FizzBuzz = []"
   ]
  },
  {
   "cell_type": "code",
   "execution_count": 14,
   "metadata": {},
   "outputs": [
    {
     "ename": "NameError",
     "evalue": "name 'Fizz' is not defined",
     "output_type": "error",
     "traceback": [
      "\u001b[1;31m---------------------------------------------------------------------------\u001b[0m",
      "\u001b[1;31mNameError\u001b[0m                                 Traceback (most recent call last)",
      "\u001b[1;32m<ipython-input-14-57470217cde2>\u001b[0m in \u001b[0;36m<module>\u001b[1;34m()\u001b[0m\n\u001b[1;32m----> 1\u001b[1;33m \u001b[0mFizz\u001b[0m\u001b[1;33m*\u001b[0m\u001b[1;32mTrue\u001b[0m\u001b[1;33m\u001b[0m\u001b[0m\n\u001b[0m",
      "\u001b[1;31mNameError\u001b[0m: name 'Fizz' is not defined"
     ]
    }
   ],
   "source": []
  },
  {
   "cell_type": "code",
   "execution_count": null,
   "metadata": {},
   "outputs": [],
   "source": []
  },
  {
   "cell_type": "markdown",
   "metadata": {},
   "source": [
    "## File I/O"
   ]
  },
  {
   "cell_type": "code",
   "execution_count": 17,
   "metadata": {},
   "outputs": [],
   "source": [
    "## 새파일 만들기\n",
    "\n",
    "f = open(\"new_file.txt\", \"w\") ## w는 쓰기 가능한 모드선택자. \"r\"은 읽기모드 \"a\"는 추가모드\n",
    "\n",
    "f.close()  ## 항상 f.close()를 쓰는 습관을 들일 것"
   ]
  },
  {
   "cell_type": "code",
   "execution_count": 18,
   "metadata": {},
   "outputs": [],
   "source": [
    "## 파일에 줄 추가\n",
    "\n",
    "f = open(\"new_file.txt\", \"a\")\n",
    "\n",
    "for i in range (1,10+1):\n",
    "    text = \"new_line no.{}\\n\".format(i)\n",
    "    f.write(text)\n",
    "f. close()"
   ]
  },
  {
   "cell_type": "code",
   "execution_count": 19,
   "metadata": {},
   "outputs": [],
   "source": [
    "## 21~30번 줄까지 추가 \n",
    "\n",
    "f = open(\"new_file.txt\", \"a\") ## \"w\"로 하면...이전 내용 모두 지워지고 새로 써진다.\n",
    "for i in range (21, 30+1):\n",
    "    text = \"new_new_line no.{}\\n\".format(i)\n",
    "    f.write(text)\n",
    "f.close()"
   ]
  },
  {
   "cell_type": "code",
   "execution_count": 21,
   "metadata": {},
   "outputs": [
    {
     "name": "stdout",
     "output_type": "stream",
     "text": [
      "new_line no.1\n",
      "\n"
     ]
    }
   ],
   "source": [
    "f = open(\"new_file.txt\", \"r\")\n",
    "text = f.readline()\n",
    "print(text)\n",
    "f. close() ## 한줄만 읽음..."
   ]
  },
  {
   "cell_type": "code",
   "execution_count": 1,
   "metadata": {},
   "outputs": [
    {
     "name": "stdout",
     "output_type": "stream",
     "text": [
      "new_line no.1\n",
      "\n",
      "new_line no.2\n",
      "\n",
      "new_line no.3\n",
      "\n",
      "new_line no.4\n",
      "\n",
      "new_line no.5\n",
      "\n",
      "new_line no.6\n",
      "\n",
      "new_line no.7\n",
      "\n",
      "new_line no.8\n",
      "\n",
      "new_line no.9\n",
      "\n",
      "new_line no.10\n",
      "\n",
      "new_new_line no.21\n",
      "\n",
      "new_new_line no.22\n",
      "\n",
      "new_new_line no.23\n",
      "\n",
      "new_new_line no.24\n",
      "\n",
      "new_new_line no.25\n",
      "\n",
      "new_new_line no.26\n",
      "\n",
      "new_new_line no.27\n",
      "\n",
      "new_new_line no.28\n",
      "\n",
      "new_new_line no.29\n",
      "\n",
      "new_new_line no.30\n",
      "\n"
     ]
    }
   ],
   "source": [
    "f = open(\"new_file.txt\", \"r\")\n",
    "while True:\n",
    "    text = f.readline() ## 읽은 다음 한줄 넘어감\n",
    "    if not text: ## 넘어간 뒤 줄에 text가 없다면...False가 되어 break됨\n",
    "        break\n",
    "    print(text)\n",
    "f. close()"
   ]
  },
  {
   "cell_type": "code",
   "execution_count": 11,
   "metadata": {},
   "outputs": [
    {
     "name": "stdout",
     "output_type": "stream",
     "text": [
      "new_line no.1\n",
      "\n",
      "new_line no.2\n",
      "\n",
      "new_line no.3\n",
      "\n",
      "new_line no.4\n",
      "\n",
      "new_line no.5\n",
      "\n",
      "new_line no.6\n",
      "\n",
      "new_line no.7\n",
      "\n",
      "new_line no.8\n",
      "\n",
      "new_line no.9\n",
      "\n",
      "new_line no.10\n",
      "\n",
      "new_new_line no.21\n",
      "\n",
      "new_new_line no.22\n",
      "\n",
      "new_new_line no.23\n",
      "\n",
      "new_new_line no.24\n",
      "\n",
      "new_new_line no.25\n",
      "\n",
      "new_new_line no.26\n",
      "\n",
      "new_new_line no.27\n",
      "\n",
      "new_new_line no.28\n",
      "\n",
      "new_new_line no.29\n",
      "\n",
      "new_new_line no.30\n",
      "\n"
     ]
    }
   ],
   "source": [
    "f = open(\"new_file.txt\", \"r\")\n",
    "for text in f.readlines(): ## 리스트로 불러옴\n",
    "    print(text)\n",
    "f. close() "
   ]
  },
  {
   "cell_type": "code",
   "execution_count": 13,
   "metadata": {},
   "outputs": [
    {
     "name": "stdout",
     "output_type": "stream",
     "text": [
      "new_line no.1\n",
      "\n",
      "new_line no.2\n",
      "\n",
      "new_line no.3\n",
      "\n",
      "new_line no.4\n",
      "\n",
      "new_line no.5\n",
      "\n",
      "new_line no.6\n",
      "\n",
      "new_line no.7\n",
      "\n",
      "new_line no.8\n",
      "\n",
      "new_line no.9\n",
      "\n",
      "new_line no.10\n",
      "\n",
      "new_new_line no.21\n",
      "\n",
      "new_new_line no.22\n",
      "\n",
      "new_new_line no.23\n",
      "\n",
      "new_new_line no.24\n",
      "\n",
      "new_new_line no.25\n",
      "\n",
      "new_new_line no.26\n",
      "\n",
      "new_new_line no.27\n",
      "\n",
      "new_new_line no.28\n",
      "\n",
      "new_new_line no.29\n",
      "\n",
      "new_new_line no.30\n",
      "\n"
     ]
    }
   ],
   "source": [
    "with open(\"new_file.txt\", \"r\") as f: ## f.opne~f.close를 이렇게도 표현함, close가 없어도 조건이 끝나면 close됨 더 짧고 close신경 안써도 됨\n",
    "    for text in f.readlines():\n",
    "        print(text)"
   ]
  },
  {
   "cell_type": "code",
   "execution_count": null,
   "metadata": {},
   "outputs": [],
   "source": []
  },
  {
   "cell_type": "markdown",
   "metadata": {},
   "source": [
    "## Error handle"
   ]
  },
  {
   "cell_type": "code",
   "execution_count": 15,
   "metadata": {},
   "outputs": [],
   "source": [
    "## try:\n",
    "##     이런 실행문을 시도하다가 에러가 생기면\n",
    "## except:\n",
    "##     이런 실행문을 실행하세요"
   ]
  },
  {
   "cell_type": "code",
   "execution_count": 16,
   "metadata": {},
   "outputs": [],
   "source": [
    "## 기본형\n",
    "\n",
    "try: \n",
    "    pass\n",
    "except:\n",
    "    pass"
   ]
  },
  {
   "cell_type": "code",
   "execution_count": 17,
   "metadata": {},
   "outputs": [
    {
     "name": "stdout",
     "output_type": "stream",
     "text": [
      "Try number: Hi\n",
      "I said number!\n",
      "Try number again!: 34\n"
     ]
    }
   ],
   "source": [
    "try:\n",
    "    int(input(\"Try number: \")) ## 자료형이 맞지 않으면 error >> except의 내용을 실행한다. \n",
    "except:\n",
    "    print(\"I said number!\")\n",
    "    int(input(\"Try number again!: \"))"
   ]
  },
  {
   "cell_type": "code",
   "execution_count": 18,
   "metadata": {},
   "outputs": [
    {
     "name": "stdout",
     "output_type": "stream",
     "text": [
      "Try number: je\n",
      "I said number!\n",
      "invalid literal for int() with base 10: 'je'\n"
     ]
    }
   ],
   "source": [
    "try:\n",
    "    int(input(\"Try number: \"))  \n",
    "except ValueError as e: ## Valueerror가 발생한 경우에만, 그리고 Value error자체를 e로 받아서 보여준다. \n",
    "    print(\"I said number!\")\n",
    "    print(e)"
   ]
  },
  {
   "cell_type": "code",
   "execution_count": 20,
   "metadata": {},
   "outputs": [
    {
     "name": "stdout",
     "output_type": "stream",
     "text": [
      "[Errno 2] No such file or directory: 'error.txt'\n"
     ]
    }
   ],
   "source": [
    "try: \n",
    "    f = open(\"error.txt\",\"r\")\n",
    "except FileNotFoundError as e: ## 파일 못찾는 에러가 발생했다면\n",
    "    print(e)\n",
    "else: ## 실패하지 않았다면\n",
    "    print(f.readline())\n",
    "    f.close()"
   ]
  },
  {
   "cell_type": "code",
   "execution_count": 21,
   "metadata": {},
   "outputs": [
    {
     "name": "stdout",
     "output_type": "stream",
     "text": [
      "new_line no.1\n",
      "\n"
     ]
    }
   ],
   "source": [
    "try: \n",
    "    f = open(\"new_file.txt\",\"r\")\n",
    "except FileNotFoundError as e: ## 파일 못찾는 에러가 발생했다면\n",
    "    print(e)\n",
    "else: ## 실패하지 않았다면\n",
    "    print(f.readline())\n",
    "    f.close()"
   ]
  },
  {
   "cell_type": "code",
   "execution_count": 22,
   "metadata": {},
   "outputs": [],
   "source": [
    "try:\n",
    "    pass\n",
    "except ValueError:\n",
    "    pass\n",
    "except NameError:\n",
    "    pass\n",
    "## ...\n",
    "else:\n",
    "    pass\n",
    "\n",
    "## 이런식으로 에러별 실행할 실행문을 넣고 마지막에 성공했을 경우 실행할 코드를 넣을 수 있다. "
   ]
  },
  {
   "cell_type": "code",
   "execution_count": null,
   "metadata": {},
   "outputs": [],
   "source": []
  },
  {
   "cell_type": "markdown",
   "metadata": {},
   "source": [
    "## 에티오피안 곱셉법"
   ]
  },
  {
   "cell_type": "code",
   "execution_count": 16,
   "metadata": {},
   "outputs": [],
   "source": [
    "def ethiopian_multiply(a, b):\n",
    "    result = 0\n",
    "    while a != 1:\n",
    "       \n",
    "        if a % 2 == 0:\n",
    "            a = a / 2\n",
    "            b = b * 2\n",
    "        else: \n",
    "            result = result + b\n",
    "            b = b * 2\n",
    "            a = a // 2 \n",
    "    return result + b"
   ]
  },
  {
   "cell_type": "code",
   "execution_count": 18,
   "metadata": {},
   "outputs": [
    {
     "data": {
      "text/plain": [
       "53136"
      ]
     },
     "execution_count": 18,
     "metadata": {},
     "output_type": "execute_result"
    }
   ],
   "source": [
    "ethiopian_multiply(432, 123)"
   ]
  },
  {
   "cell_type": "code",
   "execution_count": 23,
   "metadata": {},
   "outputs": [],
   "source": [
    "def ethiopian_multiply2(a, b):\n",
    "    result = 0\n",
    "    while a >= 1:\n",
    "        if a % 2 == 0:\n",
    "            print(a,b)\n",
    "        else: \n",
    "            result = result + b\n",
    "        b = b * 2\n",
    "        a = a // 2 \n",
    "    return result "
   ]
  },
  {
   "cell_type": "code",
   "execution_count": 24,
   "metadata": {},
   "outputs": [
    {
     "name": "stdout",
     "output_type": "stream",
     "text": [
      "432 123\n",
      "216 246\n",
      "108 492\n",
      "54 984\n",
      "6 7872\n"
     ]
    },
    {
     "data": {
      "text/plain": [
       "53136"
      ]
     },
     "execution_count": 24,
     "metadata": {},
     "output_type": "execute_result"
    }
   ],
   "source": [
    "ethiopian_multiply2(432,123)"
   ]
  },
  {
   "cell_type": "code",
   "execution_count": null,
   "metadata": {},
   "outputs": [],
   "source": []
  }
 ],
 "metadata": {
  "kernelspec": {
   "display_name": "Python 3",
   "language": "python",
   "name": "python3"
  },
  "language_info": {
   "codemirror_mode": {
    "name": "ipython",
    "version": 3
   },
   "file_extension": ".py",
   "mimetype": "text/x-python",
   "name": "python",
   "nbconvert_exporter": "python",
   "pygments_lexer": "ipython3",
   "version": "3.6.4"
  }
 },
 "nbformat": 4,
 "nbformat_minor": 2
}
